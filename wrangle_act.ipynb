{
 "cells": [
  {
   "cell_type": "markdown",
   "metadata": {
    "extensions": {
     "jupyter_dashboards": {
      "version": 1,
      "views": {
       "grid_default": {
        "col": 0,
        "height": 4,
        "hidden": false,
        "row": 0,
        "width": 4
       },
       "report_default": {
        "hidden": false
       }
      }
     }
    }
   },
   "source": [
    "# Project: Wrangling and Analyze Data"
   ]
  },
  {
   "cell_type": "markdown",
   "metadata": {},
   "source": [
    "## Data Gathering\n",
    "In the cell below, gather **all** three pieces of data for this project and load them in the notebook. **Note:** the methods required to gather each data are different.\n",
    "1. Directly download the WeRateDogs Twitter archive data (twitter_archive_enhanced.csv)"
   ]
  },
  {
   "cell_type": "code",
   "execution_count": 1,
   "metadata": {
    "extensions": {
     "jupyter_dashboards": {
      "version": 1,
      "views": {
       "grid_default": {
        "hidden": true
       },
       "report_default": {
        "hidden": true
       }
      }
     }
    }
   },
   "outputs": [],
   "source": [
    "import pandas as pd \n",
    "import os \n",
    "import json \n",
    "import requests\n",
    "import tweepy\n",
    "from tweepy import OAuthHandler\n",
    "from timeit import default_timer as timer\n",
    "import numpy as np\n",
    "import matplotlib.pyplot as plt"
   ]
  },
  {
   "cell_type": "markdown",
   "metadata": {},
   "source": [
    "2. Use the Requests library to download the tweet image prediction (image_predictions.tsv)"
   ]
  },
  {
   "cell_type": "code",
   "execution_count": 2,
   "metadata": {},
   "outputs": [],
   "source": [
    "df_archive = pd.read_csv(\"twitter-archive-enhanced.csv\")"
   ]
  },
  {
   "cell_type": "markdown",
   "metadata": {},
   "source": [
    "3. Use the Tweepy library to query additional data via the Twitter API (tweet_json.txt)"
   ]
  },
  {
   "cell_type": "code",
   "execution_count": 3,
   "metadata": {},
   "outputs": [],
   "source": [
    "folder_name = 'image_prediction'\n",
    "if not os.path.exists(folder_name):\n",
    "    os.makedirs(folder_name)\n",
    "\n",
    "url = \"https://d17h27t6h515a5.cloudfront.net/topher/2017/August/599fd2ad_image-predictions/image-predictions.tsv\"\n",
    "response = requests.get(url)\n",
    "with open(os.path.join(folder_name, \"image_predictions.tsv\"), mode = \"wb\") as file:\n",
    "    file.write(response.content)"
   ]
  },
  {
   "cell_type": "code",
   "execution_count": 4,
   "metadata": {},
   "outputs": [],
   "source": [
    "df_prediction = pd.read_csv(\"image_prediction/image_predictions.tsv\", sep =\"\\t\")"
   ]
  },
  {
   "cell_type": "code",
   "execution_count": 5,
   "metadata": {},
   "outputs": [],
   "source": [
    "df = []\n",
    "with open('tweet-json.txt') as file:\n",
    "    for line in file:\n",
    "        tweet = (json.loads(line))\n",
    "        tweet_id = tweet['id']\n",
    "        retweet_count = tweet['retweet_count']\n",
    "        favorite_count = tweet['favorite_count']\n",
    "        df.append({'retweet_count' : retweet_count,\n",
    "                  'favorite_count' : favorite_count,\n",
    "                  'tweet_id' : tweet_id})"
   ]
  },
  {
   "cell_type": "code",
   "execution_count": 6,
   "metadata": {},
   "outputs": [],
   "source": [
    "related_data = pd.DataFrame(df, columns = ['tweet_id', 'retweet_count', 'favorite_count'])\n"
   ]
  },
  {
   "cell_type": "markdown",
   "metadata": {
    "extensions": {
     "jupyter_dashboards": {
      "version": 1,
      "views": {
       "grid_default": {
        "col": 4,
        "height": 4,
        "hidden": false,
        "row": 28,
        "width": 4
       },
       "report_default": {
        "hidden": false
       }
      }
     }
    }
   },
   "source": [
    "## Assessing Data\n",
    "In this section, detect and document at least **eight (8) quality issues and two (2) tidiness issue**. You must use **both** visual assessment\n",
    "programmatic assessement to assess the data.\n",
    "\n",
    "**Note:** pay attention to the following key points when you access the data.\n",
    "\n",
    "* You only want original ratings (no retweets) that have images. Though there are 5000+ tweets in the dataset, not all are dog ratings and some are retweets.\n",
    "* Assessing and cleaning the entire dataset completely would require a lot of time, and is not necessary to practice and demonstrate your skills in data wrangling. Therefore, the requirements of this project are only to assess and clean at least 8 quality issues and at least 2 tidiness issues in this dataset.\n",
    "* The fact that the rating numerators are greater than the denominators does not need to be cleaned. This [unique rating system](http://knowyourmeme.com/memes/theyre-good-dogs-brent) is a big part of the popularity of WeRateDogs.\n",
    "* You do not need to gather the tweets beyond August 1st, 2017. You can, but note that you won't be able to gather the image predictions for these tweets since you don't have access to the algorithm used.\n",
    "\n"
   ]
  },
  {
   "cell_type": "markdown",
   "metadata": {},
   "source": [
    "### visual assessement : "
   ]
  },
  {
   "cell_type": "code",
   "execution_count": 7,
   "metadata": {
    "scrolled": true
   },
   "outputs": [
    {
     "data": {
      "text/html": [
       "<div>\n",
       "<style scoped>\n",
       "    .dataframe tbody tr th:only-of-type {\n",
       "        vertical-align: middle;\n",
       "    }\n",
       "\n",
       "    .dataframe tbody tr th {\n",
       "        vertical-align: top;\n",
       "    }\n",
       "\n",
       "    .dataframe thead th {\n",
       "        text-align: right;\n",
       "    }\n",
       "</style>\n",
       "<table border=\"1\" class=\"dataframe\">\n",
       "  <thead>\n",
       "    <tr style=\"text-align: right;\">\n",
       "      <th></th>\n",
       "      <th>tweet_id</th>\n",
       "      <th>in_reply_to_status_id</th>\n",
       "      <th>in_reply_to_user_id</th>\n",
       "      <th>timestamp</th>\n",
       "      <th>source</th>\n",
       "      <th>text</th>\n",
       "      <th>retweeted_status_id</th>\n",
       "      <th>retweeted_status_user_id</th>\n",
       "      <th>retweeted_status_timestamp</th>\n",
       "      <th>expanded_urls</th>\n",
       "      <th>rating_numerator</th>\n",
       "      <th>rating_denominator</th>\n",
       "      <th>name</th>\n",
       "      <th>doggo</th>\n",
       "      <th>floofer</th>\n",
       "      <th>pupper</th>\n",
       "      <th>puppo</th>\n",
       "    </tr>\n",
       "  </thead>\n",
       "  <tbody>\n",
       "    <tr>\n",
       "      <th>1870</th>\n",
       "      <td>675149409102012420</td>\n",
       "      <td>NaN</td>\n",
       "      <td>NaN</td>\n",
       "      <td>2015-12-11 03:05:37 +0000</td>\n",
       "      <td>&lt;a href=\"http://twitter.com/download/iphone\" r...</td>\n",
       "      <td>holy shit 12/10 https://t.co/p6O8X93bTQ</td>\n",
       "      <td>NaN</td>\n",
       "      <td>NaN</td>\n",
       "      <td>NaN</td>\n",
       "      <td>https://twitter.com/dog_rates/status/675149409...</td>\n",
       "      <td>12</td>\n",
       "      <td>10</td>\n",
       "      <td>None</td>\n",
       "      <td>None</td>\n",
       "      <td>None</td>\n",
       "      <td>None</td>\n",
       "      <td>None</td>\n",
       "    </tr>\n",
       "    <tr>\n",
       "      <th>965</th>\n",
       "      <td>750429297815552001</td>\n",
       "      <td>NaN</td>\n",
       "      <td>NaN</td>\n",
       "      <td>2016-07-05 20:41:01 +0000</td>\n",
       "      <td>&lt;a href=\"http://twitter.com/download/iphone\" r...</td>\n",
       "      <td>This is Arnie. He's a Nova Scotian Fridge Floo...</td>\n",
       "      <td>NaN</td>\n",
       "      <td>NaN</td>\n",
       "      <td>NaN</td>\n",
       "      <td>https://twitter.com/dog_rates/status/750429297...</td>\n",
       "      <td>12</td>\n",
       "      <td>10</td>\n",
       "      <td>Arnie</td>\n",
       "      <td>None</td>\n",
       "      <td>None</td>\n",
       "      <td>None</td>\n",
       "      <td>None</td>\n",
       "    </tr>\n",
       "    <tr>\n",
       "      <th>517</th>\n",
       "      <td>810896069567610880</td>\n",
       "      <td>NaN</td>\n",
       "      <td>NaN</td>\n",
       "      <td>2016-12-19 17:14:23 +0000</td>\n",
       "      <td>&lt;a href=\"http://twitter.com/download/iphone\" r...</td>\n",
       "      <td>This is Hunter. He just found out he needs bra...</td>\n",
       "      <td>NaN</td>\n",
       "      <td>NaN</td>\n",
       "      <td>NaN</td>\n",
       "      <td>https://twitter.com/dog_rates/status/810896069...</td>\n",
       "      <td>11</td>\n",
       "      <td>10</td>\n",
       "      <td>Hunter</td>\n",
       "      <td>None</td>\n",
       "      <td>None</td>\n",
       "      <td>None</td>\n",
       "      <td>None</td>\n",
       "    </tr>\n",
       "    <tr>\n",
       "      <th>800</th>\n",
       "      <td>772615324260794368</td>\n",
       "      <td>NaN</td>\n",
       "      <td>NaN</td>\n",
       "      <td>2016-09-05 02:00:22 +0000</td>\n",
       "      <td>&lt;a href=\"http://twitter.com/download/iphone\" r...</td>\n",
       "      <td>RT @dog_rates: This is Gromit. He's pupset bec...</td>\n",
       "      <td>7.652221e+17</td>\n",
       "      <td>4.196984e+09</td>\n",
       "      <td>2016-08-15 16:22:20 +0000</td>\n",
       "      <td>https://twitter.com/dog_rates/status/765222098...</td>\n",
       "      <td>10</td>\n",
       "      <td>10</td>\n",
       "      <td>Gromit</td>\n",
       "      <td>None</td>\n",
       "      <td>None</td>\n",
       "      <td>None</td>\n",
       "      <td>None</td>\n",
       "    </tr>\n",
       "    <tr>\n",
       "      <th>1873</th>\n",
       "      <td>675145476954566656</td>\n",
       "      <td>NaN</td>\n",
       "      <td>NaN</td>\n",
       "      <td>2015-12-11 02:49:59 +0000</td>\n",
       "      <td>&lt;a href=\"http://twitter.com/download/iphone\" r...</td>\n",
       "      <td>What an honor. 3 dogs here. Blond one is clear...</td>\n",
       "      <td>NaN</td>\n",
       "      <td>NaN</td>\n",
       "      <td>NaN</td>\n",
       "      <td>https://twitter.com/dog_rates/status/675145476...</td>\n",
       "      <td>9</td>\n",
       "      <td>10</td>\n",
       "      <td>None</td>\n",
       "      <td>None</td>\n",
       "      <td>None</td>\n",
       "      <td>None</td>\n",
       "      <td>None</td>\n",
       "    </tr>\n",
       "    <tr>\n",
       "      <th>96</th>\n",
       "      <td>873580283840344065</td>\n",
       "      <td>NaN</td>\n",
       "      <td>NaN</td>\n",
       "      <td>2017-06-10 16:39:04 +0000</td>\n",
       "      <td>&lt;a href=\"http://twitter.com/download/iphone\" r...</td>\n",
       "      <td>We usually don't rate Deck-bound Saskatoon Bla...</td>\n",
       "      <td>NaN</td>\n",
       "      <td>NaN</td>\n",
       "      <td>NaN</td>\n",
       "      <td>https://twitter.com/dog_rates/status/873580283...</td>\n",
       "      <td>13</td>\n",
       "      <td>10</td>\n",
       "      <td>None</td>\n",
       "      <td>None</td>\n",
       "      <td>None</td>\n",
       "      <td>None</td>\n",
       "      <td>None</td>\n",
       "    </tr>\n",
       "    <tr>\n",
       "      <th>54</th>\n",
       "      <td>881666595344535552</td>\n",
       "      <td>NaN</td>\n",
       "      <td>NaN</td>\n",
       "      <td>2017-07-03 00:11:11 +0000</td>\n",
       "      <td>&lt;a href=\"http://twitter.com/download/iphone\" r...</td>\n",
       "      <td>This is Gary. He couldn't miss this puppertuni...</td>\n",
       "      <td>NaN</td>\n",
       "      <td>NaN</td>\n",
       "      <td>NaN</td>\n",
       "      <td>https://twitter.com/dog_rates/status/881666595...</td>\n",
       "      <td>13</td>\n",
       "      <td>10</td>\n",
       "      <td>Gary</td>\n",
       "      <td>None</td>\n",
       "      <td>None</td>\n",
       "      <td>None</td>\n",
       "      <td>None</td>\n",
       "    </tr>\n",
       "    <tr>\n",
       "      <th>1628</th>\n",
       "      <td>684588130326986752</td>\n",
       "      <td>NaN</td>\n",
       "      <td>NaN</td>\n",
       "      <td>2016-01-06 04:11:43 +0000</td>\n",
       "      <td>&lt;a href=\"http://vine.co\" rel=\"nofollow\"&gt;Vine -...</td>\n",
       "      <td>This pupper just got his first kiss. 12/10 he'...</td>\n",
       "      <td>NaN</td>\n",
       "      <td>NaN</td>\n",
       "      <td>NaN</td>\n",
       "      <td>https://vine.co/v/ihWIxntjtO7</td>\n",
       "      <td>12</td>\n",
       "      <td>10</td>\n",
       "      <td>None</td>\n",
       "      <td>None</td>\n",
       "      <td>None</td>\n",
       "      <td>pupper</td>\n",
       "      <td>None</td>\n",
       "    </tr>\n",
       "    <tr>\n",
       "      <th>1950</th>\n",
       "      <td>673688752737402881</td>\n",
       "      <td>NaN</td>\n",
       "      <td>NaN</td>\n",
       "      <td>2015-12-07 02:21:29 +0000</td>\n",
       "      <td>&lt;a href=\"http://twitter.com/download/iphone\" r...</td>\n",
       "      <td>Meet Larry. He doesn't know how to shoe. 9/10 ...</td>\n",
       "      <td>NaN</td>\n",
       "      <td>NaN</td>\n",
       "      <td>NaN</td>\n",
       "      <td>https://twitter.com/dog_rates/status/673688752...</td>\n",
       "      <td>9</td>\n",
       "      <td>10</td>\n",
       "      <td>Larry</td>\n",
       "      <td>None</td>\n",
       "      <td>None</td>\n",
       "      <td>None</td>\n",
       "      <td>None</td>\n",
       "    </tr>\n",
       "    <tr>\n",
       "      <th>1186</th>\n",
       "      <td>718540630683709445</td>\n",
       "      <td>NaN</td>\n",
       "      <td>NaN</td>\n",
       "      <td>2016-04-08 20:46:50 +0000</td>\n",
       "      <td>&lt;a href=\"http://twitter.com/download/iphone\" r...</td>\n",
       "      <td>Get you a pup that can do both. 10/10 https://...</td>\n",
       "      <td>NaN</td>\n",
       "      <td>NaN</td>\n",
       "      <td>NaN</td>\n",
       "      <td>https://twitter.com/dog_rates/status/718540630...</td>\n",
       "      <td>10</td>\n",
       "      <td>10</td>\n",
       "      <td>None</td>\n",
       "      <td>None</td>\n",
       "      <td>None</td>\n",
       "      <td>None</td>\n",
       "      <td>None</td>\n",
       "    </tr>\n",
       "    <tr>\n",
       "      <th>155</th>\n",
       "      <td>861769973181624320</td>\n",
       "      <td>NaN</td>\n",
       "      <td>NaN</td>\n",
       "      <td>2017-05-09 02:29:07 +0000</td>\n",
       "      <td>&lt;a href=\"http://twitter.com/download/iphone\" r...</td>\n",
       "      <td>RT @dog_rates: \"Good afternoon class today we'...</td>\n",
       "      <td>8.066291e+17</td>\n",
       "      <td>4.196984e+09</td>\n",
       "      <td>2016-12-07 22:38:52 +0000</td>\n",
       "      <td>https://twitter.com/dog_rates/status/806629075...</td>\n",
       "      <td>13</td>\n",
       "      <td>10</td>\n",
       "      <td>None</td>\n",
       "      <td>None</td>\n",
       "      <td>None</td>\n",
       "      <td>None</td>\n",
       "      <td>None</td>\n",
       "    </tr>\n",
       "    <tr>\n",
       "      <th>2217</th>\n",
       "      <td>668528771708952576</td>\n",
       "      <td>NaN</td>\n",
       "      <td>NaN</td>\n",
       "      <td>2015-11-22 20:37:34 +0000</td>\n",
       "      <td>&lt;a href=\"http://twitter.com/download/iphone\" r...</td>\n",
       "      <td>This is Gòrdón. He enjoys his razberrita by po...</td>\n",
       "      <td>NaN</td>\n",
       "      <td>NaN</td>\n",
       "      <td>NaN</td>\n",
       "      <td>https://twitter.com/dog_rates/status/668528771...</td>\n",
       "      <td>12</td>\n",
       "      <td>10</td>\n",
       "      <td>Gòrdón</td>\n",
       "      <td>None</td>\n",
       "      <td>None</td>\n",
       "      <td>None</td>\n",
       "      <td>None</td>\n",
       "    </tr>\n",
       "    <tr>\n",
       "      <th>772</th>\n",
       "      <td>776477788987613185</td>\n",
       "      <td>NaN</td>\n",
       "      <td>NaN</td>\n",
       "      <td>2016-09-15 17:48:25 +0000</td>\n",
       "      <td>&lt;a href=\"http://twitter.com/download/iphone\" r...</td>\n",
       "      <td>This is Huck. He's addicted to caffeine. Hope ...</td>\n",
       "      <td>NaN</td>\n",
       "      <td>NaN</td>\n",
       "      <td>NaN</td>\n",
       "      <td>https://twitter.com/dog_rates/status/776477788...</td>\n",
       "      <td>11</td>\n",
       "      <td>10</td>\n",
       "      <td>Huck</td>\n",
       "      <td>None</td>\n",
       "      <td>None</td>\n",
       "      <td>pupper</td>\n",
       "      <td>None</td>\n",
       "    </tr>\n",
       "    <tr>\n",
       "      <th>1079</th>\n",
       "      <td>739238157791694849</td>\n",
       "      <td>NaN</td>\n",
       "      <td>NaN</td>\n",
       "      <td>2016-06-04 23:31:25 +0000</td>\n",
       "      <td>&lt;a href=\"http://twitter.com/download/iphone\" r...</td>\n",
       "      <td>Here's a doggo blowing bubbles. It's downright...</td>\n",
       "      <td>NaN</td>\n",
       "      <td>NaN</td>\n",
       "      <td>NaN</td>\n",
       "      <td>https://twitter.com/dog_rates/status/739238157...</td>\n",
       "      <td>13</td>\n",
       "      <td>10</td>\n",
       "      <td>None</td>\n",
       "      <td>doggo</td>\n",
       "      <td>None</td>\n",
       "      <td>None</td>\n",
       "      <td>None</td>\n",
       "    </tr>\n",
       "    <tr>\n",
       "      <th>248</th>\n",
       "      <td>845397057150107648</td>\n",
       "      <td>NaN</td>\n",
       "      <td>NaN</td>\n",
       "      <td>2017-03-24 22:08:59 +0000</td>\n",
       "      <td>&lt;a href=\"http://twitter.com/download/iphone\" r...</td>\n",
       "      <td>Say hello to Mimosa. She's an emotional suppor...</td>\n",
       "      <td>NaN</td>\n",
       "      <td>NaN</td>\n",
       "      <td>NaN</td>\n",
       "      <td>https://www.gofundme.com/help-save-a-pup,https...</td>\n",
       "      <td>13</td>\n",
       "      <td>10</td>\n",
       "      <td>Mimosa</td>\n",
       "      <td>doggo</td>\n",
       "      <td>None</td>\n",
       "      <td>None</td>\n",
       "      <td>None</td>\n",
       "    </tr>\n",
       "  </tbody>\n",
       "</table>\n",
       "</div>"
      ],
      "text/plain": [
       "                tweet_id  in_reply_to_status_id  in_reply_to_user_id  \\\n",
       "1870  675149409102012420                    NaN                  NaN   \n",
       "965   750429297815552001                    NaN                  NaN   \n",
       "517   810896069567610880                    NaN                  NaN   \n",
       "800   772615324260794368                    NaN                  NaN   \n",
       "1873  675145476954566656                    NaN                  NaN   \n",
       "96    873580283840344065                    NaN                  NaN   \n",
       "54    881666595344535552                    NaN                  NaN   \n",
       "1628  684588130326986752                    NaN                  NaN   \n",
       "1950  673688752737402881                    NaN                  NaN   \n",
       "1186  718540630683709445                    NaN                  NaN   \n",
       "155   861769973181624320                    NaN                  NaN   \n",
       "2217  668528771708952576                    NaN                  NaN   \n",
       "772   776477788987613185                    NaN                  NaN   \n",
       "1079  739238157791694849                    NaN                  NaN   \n",
       "248   845397057150107648                    NaN                  NaN   \n",
       "\n",
       "                      timestamp  \\\n",
       "1870  2015-12-11 03:05:37 +0000   \n",
       "965   2016-07-05 20:41:01 +0000   \n",
       "517   2016-12-19 17:14:23 +0000   \n",
       "800   2016-09-05 02:00:22 +0000   \n",
       "1873  2015-12-11 02:49:59 +0000   \n",
       "96    2017-06-10 16:39:04 +0000   \n",
       "54    2017-07-03 00:11:11 +0000   \n",
       "1628  2016-01-06 04:11:43 +0000   \n",
       "1950  2015-12-07 02:21:29 +0000   \n",
       "1186  2016-04-08 20:46:50 +0000   \n",
       "155   2017-05-09 02:29:07 +0000   \n",
       "2217  2015-11-22 20:37:34 +0000   \n",
       "772   2016-09-15 17:48:25 +0000   \n",
       "1079  2016-06-04 23:31:25 +0000   \n",
       "248   2017-03-24 22:08:59 +0000   \n",
       "\n",
       "                                                 source  \\\n",
       "1870  <a href=\"http://twitter.com/download/iphone\" r...   \n",
       "965   <a href=\"http://twitter.com/download/iphone\" r...   \n",
       "517   <a href=\"http://twitter.com/download/iphone\" r...   \n",
       "800   <a href=\"http://twitter.com/download/iphone\" r...   \n",
       "1873  <a href=\"http://twitter.com/download/iphone\" r...   \n",
       "96    <a href=\"http://twitter.com/download/iphone\" r...   \n",
       "54    <a href=\"http://twitter.com/download/iphone\" r...   \n",
       "1628  <a href=\"http://vine.co\" rel=\"nofollow\">Vine -...   \n",
       "1950  <a href=\"http://twitter.com/download/iphone\" r...   \n",
       "1186  <a href=\"http://twitter.com/download/iphone\" r...   \n",
       "155   <a href=\"http://twitter.com/download/iphone\" r...   \n",
       "2217  <a href=\"http://twitter.com/download/iphone\" r...   \n",
       "772   <a href=\"http://twitter.com/download/iphone\" r...   \n",
       "1079  <a href=\"http://twitter.com/download/iphone\" r...   \n",
       "248   <a href=\"http://twitter.com/download/iphone\" r...   \n",
       "\n",
       "                                                   text  retweeted_status_id  \\\n",
       "1870            holy shit 12/10 https://t.co/p6O8X93bTQ                  NaN   \n",
       "965   This is Arnie. He's a Nova Scotian Fridge Floo...                  NaN   \n",
       "517   This is Hunter. He just found out he needs bra...                  NaN   \n",
       "800   RT @dog_rates: This is Gromit. He's pupset bec...         7.652221e+17   \n",
       "1873  What an honor. 3 dogs here. Blond one is clear...                  NaN   \n",
       "96    We usually don't rate Deck-bound Saskatoon Bla...                  NaN   \n",
       "54    This is Gary. He couldn't miss this puppertuni...                  NaN   \n",
       "1628  This pupper just got his first kiss. 12/10 he'...                  NaN   \n",
       "1950  Meet Larry. He doesn't know how to shoe. 9/10 ...                  NaN   \n",
       "1186  Get you a pup that can do both. 10/10 https://...                  NaN   \n",
       "155   RT @dog_rates: \"Good afternoon class today we'...         8.066291e+17   \n",
       "2217  This is Gòrdón. He enjoys his razberrita by po...                  NaN   \n",
       "772   This is Huck. He's addicted to caffeine. Hope ...                  NaN   \n",
       "1079  Here's a doggo blowing bubbles. It's downright...                  NaN   \n",
       "248   Say hello to Mimosa. She's an emotional suppor...                  NaN   \n",
       "\n",
       "      retweeted_status_user_id retweeted_status_timestamp  \\\n",
       "1870                       NaN                        NaN   \n",
       "965                        NaN                        NaN   \n",
       "517                        NaN                        NaN   \n",
       "800               4.196984e+09  2016-08-15 16:22:20 +0000   \n",
       "1873                       NaN                        NaN   \n",
       "96                         NaN                        NaN   \n",
       "54                         NaN                        NaN   \n",
       "1628                       NaN                        NaN   \n",
       "1950                       NaN                        NaN   \n",
       "1186                       NaN                        NaN   \n",
       "155               4.196984e+09  2016-12-07 22:38:52 +0000   \n",
       "2217                       NaN                        NaN   \n",
       "772                        NaN                        NaN   \n",
       "1079                       NaN                        NaN   \n",
       "248                        NaN                        NaN   \n",
       "\n",
       "                                          expanded_urls  rating_numerator  \\\n",
       "1870  https://twitter.com/dog_rates/status/675149409...                12   \n",
       "965   https://twitter.com/dog_rates/status/750429297...                12   \n",
       "517   https://twitter.com/dog_rates/status/810896069...                11   \n",
       "800   https://twitter.com/dog_rates/status/765222098...                10   \n",
       "1873  https://twitter.com/dog_rates/status/675145476...                 9   \n",
       "96    https://twitter.com/dog_rates/status/873580283...                13   \n",
       "54    https://twitter.com/dog_rates/status/881666595...                13   \n",
       "1628                      https://vine.co/v/ihWIxntjtO7                12   \n",
       "1950  https://twitter.com/dog_rates/status/673688752...                 9   \n",
       "1186  https://twitter.com/dog_rates/status/718540630...                10   \n",
       "155   https://twitter.com/dog_rates/status/806629075...                13   \n",
       "2217  https://twitter.com/dog_rates/status/668528771...                12   \n",
       "772   https://twitter.com/dog_rates/status/776477788...                11   \n",
       "1079  https://twitter.com/dog_rates/status/739238157...                13   \n",
       "248   https://www.gofundme.com/help-save-a-pup,https...                13   \n",
       "\n",
       "      rating_denominator    name  doggo floofer  pupper puppo  \n",
       "1870                  10    None   None    None    None  None  \n",
       "965                   10   Arnie   None    None    None  None  \n",
       "517                   10  Hunter   None    None    None  None  \n",
       "800                   10  Gromit   None    None    None  None  \n",
       "1873                  10    None   None    None    None  None  \n",
       "96                    10    None   None    None    None  None  \n",
       "54                    10    Gary   None    None    None  None  \n",
       "1628                  10    None   None    None  pupper  None  \n",
       "1950                  10   Larry   None    None    None  None  \n",
       "1186                  10    None   None    None    None  None  \n",
       "155                   10    None   None    None    None  None  \n",
       "2217                  10  Gòrdón   None    None    None  None  \n",
       "772                   10    Huck   None    None  pupper  None  \n",
       "1079                  10    None  doggo    None    None  None  \n",
       "248                   10  Mimosa  doggo    None    None  None  "
      ]
     },
     "execution_count": 7,
     "metadata": {},
     "output_type": "execute_result"
    }
   ],
   "source": [
    "df_archive.sample(15)"
   ]
  },
  {
   "cell_type": "markdown",
   "metadata": {},
   "source": [
    "missing values in \"in_reply_to_status_id\", \"in_reply_to_user_id\", \"retweeted_status_id\"\tretweeted_status_user_id\n",
    "\n",
    "\"source\" column has HTML code"
   ]
  },
  {
   "cell_type": "code",
   "execution_count": 8,
   "metadata": {
    "scrolled": false
   },
   "outputs": [
    {
     "data": {
      "text/html": [
       "<div>\n",
       "<style scoped>\n",
       "    .dataframe tbody tr th:only-of-type {\n",
       "        vertical-align: middle;\n",
       "    }\n",
       "\n",
       "    .dataframe tbody tr th {\n",
       "        vertical-align: top;\n",
       "    }\n",
       "\n",
       "    .dataframe thead th {\n",
       "        text-align: right;\n",
       "    }\n",
       "</style>\n",
       "<table border=\"1\" class=\"dataframe\">\n",
       "  <thead>\n",
       "    <tr style=\"text-align: right;\">\n",
       "      <th></th>\n",
       "      <th>tweet_id</th>\n",
       "      <th>jpg_url</th>\n",
       "      <th>img_num</th>\n",
       "      <th>p1</th>\n",
       "      <th>p1_conf</th>\n",
       "      <th>p1_dog</th>\n",
       "      <th>p2</th>\n",
       "      <th>p2_conf</th>\n",
       "      <th>p2_dog</th>\n",
       "      <th>p3</th>\n",
       "      <th>p3_conf</th>\n",
       "      <th>p3_dog</th>\n",
       "    </tr>\n",
       "  </thead>\n",
       "  <tbody>\n",
       "    <tr>\n",
       "      <th>1409</th>\n",
       "      <td>770414278348247044</td>\n",
       "      <td>https://pbs.twimg.com/media/CrEPsfWXEAAKvem.jpg</td>\n",
       "      <td>1</td>\n",
       "      <td>maillot</td>\n",
       "      <td>0.580528</td>\n",
       "      <td>False</td>\n",
       "      <td>maillot</td>\n",
       "      <td>0.081449</td>\n",
       "      <td>False</td>\n",
       "      <td>golden_retriever</td>\n",
       "      <td>0.053570</td>\n",
       "      <td>True</td>\n",
       "    </tr>\n",
       "    <tr>\n",
       "      <th>288</th>\n",
       "      <td>671159727754231808</td>\n",
       "      <td>https://pbs.twimg.com/media/CVBwNjVWwAAlUFQ.jpg</td>\n",
       "      <td>1</td>\n",
       "      <td>pitcher</td>\n",
       "      <td>0.117446</td>\n",
       "      <td>False</td>\n",
       "      <td>sunglasses</td>\n",
       "      <td>0.062487</td>\n",
       "      <td>False</td>\n",
       "      <td>mask</td>\n",
       "      <td>0.059517</td>\n",
       "      <td>False</td>\n",
       "    </tr>\n",
       "    <tr>\n",
       "      <th>512</th>\n",
       "      <td>676215927814406144</td>\n",
       "      <td>https://pbs.twimg.com/media/CWJmzNsWUAE706Z.jpg</td>\n",
       "      <td>1</td>\n",
       "      <td>hamster</td>\n",
       "      <td>0.999484</td>\n",
       "      <td>False</td>\n",
       "      <td>guinea_pig</td>\n",
       "      <td>0.000158</td>\n",
       "      <td>False</td>\n",
       "      <td>broccoli</td>\n",
       "      <td>0.000061</td>\n",
       "      <td>False</td>\n",
       "    </tr>\n",
       "    <tr>\n",
       "      <th>986</th>\n",
       "      <td>707693576495472641</td>\n",
       "      <td>https://pbs.twimg.com/media/CdI7jDnW0AA2dtO.jpg</td>\n",
       "      <td>1</td>\n",
       "      <td>bathtub</td>\n",
       "      <td>0.499525</td>\n",
       "      <td>False</td>\n",
       "      <td>tub</td>\n",
       "      <td>0.488014</td>\n",
       "      <td>False</td>\n",
       "      <td>washbasin</td>\n",
       "      <td>0.009298</td>\n",
       "      <td>False</td>\n",
       "    </tr>\n",
       "    <tr>\n",
       "      <th>2007</th>\n",
       "      <td>877736472329191424</td>\n",
       "      <td>https://pbs.twimg.com/media/DC5YqoQW0AArOLH.jpg</td>\n",
       "      <td>2</td>\n",
       "      <td>Chesapeake_Bay_retriever</td>\n",
       "      <td>0.837956</td>\n",
       "      <td>True</td>\n",
       "      <td>Labrador_retriever</td>\n",
       "      <td>0.062034</td>\n",
       "      <td>True</td>\n",
       "      <td>Weimaraner</td>\n",
       "      <td>0.040599</td>\n",
       "      <td>True</td>\n",
       "    </tr>\n",
       "    <tr>\n",
       "      <th>1900</th>\n",
       "      <td>851464819735769094</td>\n",
       "      <td>https://pbs.twimg.com/media/C9ECujZXsAAPCSM.jpg</td>\n",
       "      <td>2</td>\n",
       "      <td>web_site</td>\n",
       "      <td>0.919649</td>\n",
       "      <td>False</td>\n",
       "      <td>menu</td>\n",
       "      <td>0.026306</td>\n",
       "      <td>False</td>\n",
       "      <td>crossword_puzzle</td>\n",
       "      <td>0.003482</td>\n",
       "      <td>False</td>\n",
       "    </tr>\n",
       "    <tr>\n",
       "      <th>1708</th>\n",
       "      <td>817827839487737858</td>\n",
       "      <td>https://pbs.twimg.com/ext_tw_video_thumb/81782...</td>\n",
       "      <td>1</td>\n",
       "      <td>cocker_spaniel</td>\n",
       "      <td>0.387608</td>\n",
       "      <td>True</td>\n",
       "      <td>golden_retriever</td>\n",
       "      <td>0.264844</td>\n",
       "      <td>True</td>\n",
       "      <td>Pekinese</td>\n",
       "      <td>0.122123</td>\n",
       "      <td>True</td>\n",
       "    </tr>\n",
       "    <tr>\n",
       "      <th>1961</th>\n",
       "      <td>866450705531457537</td>\n",
       "      <td>https://pbs.twimg.com/media/DAZAUfBXcAAG_Nn.jpg</td>\n",
       "      <td>2</td>\n",
       "      <td>French_bulldog</td>\n",
       "      <td>0.905334</td>\n",
       "      <td>True</td>\n",
       "      <td>Boston_bull</td>\n",
       "      <td>0.078060</td>\n",
       "      <td>True</td>\n",
       "      <td>pug</td>\n",
       "      <td>0.001771</td>\n",
       "      <td>True</td>\n",
       "    </tr>\n",
       "    <tr>\n",
       "      <th>698</th>\n",
       "      <td>684567543613382656</td>\n",
       "      <td>https://pbs.twimg.com/media/CYASi6FWQAEQMW2.jpg</td>\n",
       "      <td>1</td>\n",
       "      <td>minibus</td>\n",
       "      <td>0.401942</td>\n",
       "      <td>False</td>\n",
       "      <td>llama</td>\n",
       "      <td>0.229145</td>\n",
       "      <td>False</td>\n",
       "      <td>seat_belt</td>\n",
       "      <td>0.209393</td>\n",
       "      <td>False</td>\n",
       "    </tr>\n",
       "    <tr>\n",
       "      <th>1655</th>\n",
       "      <td>810284430598270976</td>\n",
       "      <td>https://pbs.twimg.com/media/Cz61ZD4W8AAcJEU.jpg</td>\n",
       "      <td>1</td>\n",
       "      <td>malamute</td>\n",
       "      <td>0.620768</td>\n",
       "      <td>True</td>\n",
       "      <td>Eskimo_dog</td>\n",
       "      <td>0.158395</td>\n",
       "      <td>True</td>\n",
       "      <td>Tibetan_mastiff</td>\n",
       "      <td>0.028962</td>\n",
       "      <td>True</td>\n",
       "    </tr>\n",
       "    <tr>\n",
       "      <th>1187</th>\n",
       "      <td>739485634323156992</td>\n",
       "      <td>https://pbs.twimg.com/media/CkMuP7SWkAAD-2R.jpg</td>\n",
       "      <td>2</td>\n",
       "      <td>Walker_hound</td>\n",
       "      <td>0.640256</td>\n",
       "      <td>True</td>\n",
       "      <td>English_foxhound</td>\n",
       "      <td>0.229799</td>\n",
       "      <td>True</td>\n",
       "      <td>beagle</td>\n",
       "      <td>0.037754</td>\n",
       "      <td>True</td>\n",
       "    </tr>\n",
       "    <tr>\n",
       "      <th>618</th>\n",
       "      <td>680221482581123072</td>\n",
       "      <td>https://pbs.twimg.com/media/CXCh0QZW8AALdXm.jpg</td>\n",
       "      <td>1</td>\n",
       "      <td>bubble</td>\n",
       "      <td>0.240173</td>\n",
       "      <td>False</td>\n",
       "      <td>hen</td>\n",
       "      <td>0.146222</td>\n",
       "      <td>False</td>\n",
       "      <td>abaya</td>\n",
       "      <td>0.139342</td>\n",
       "      <td>False</td>\n",
       "    </tr>\n",
       "    <tr>\n",
       "      <th>1752</th>\n",
       "      <td>824325613288833024</td>\n",
       "      <td>https://pbs.twimg.com/media/C3CXxaoWQAAiLuC.jpg</td>\n",
       "      <td>1</td>\n",
       "      <td>Pembroke</td>\n",
       "      <td>0.990793</td>\n",
       "      <td>True</td>\n",
       "      <td>Cardigan</td>\n",
       "      <td>0.008919</td>\n",
       "      <td>True</td>\n",
       "      <td>basenji</td>\n",
       "      <td>0.000262</td>\n",
       "      <td>True</td>\n",
       "    </tr>\n",
       "    <tr>\n",
       "      <th>1236</th>\n",
       "      <td>746726898085036033</td>\n",
       "      <td>https://pbs.twimg.com/media/ClzoJz7WYAELHSf.jpg</td>\n",
       "      <td>1</td>\n",
       "      <td>golden_retriever</td>\n",
       "      <td>0.256505</td>\n",
       "      <td>True</td>\n",
       "      <td>Labrador_retriever</td>\n",
       "      <td>0.252417</td>\n",
       "      <td>True</td>\n",
       "      <td>seat_belt</td>\n",
       "      <td>0.203163</td>\n",
       "      <td>False</td>\n",
       "    </tr>\n",
       "    <tr>\n",
       "      <th>1698</th>\n",
       "      <td>816816676327063552</td>\n",
       "      <td>https://pbs.twimg.com/media/C1XqbhXXUAElpfI.jpg</td>\n",
       "      <td>1</td>\n",
       "      <td>malamute</td>\n",
       "      <td>0.668164</td>\n",
       "      <td>True</td>\n",
       "      <td>Pembroke</td>\n",
       "      <td>0.105033</td>\n",
       "      <td>True</td>\n",
       "      <td>Siberian_husky</td>\n",
       "      <td>0.077875</td>\n",
       "      <td>True</td>\n",
       "    </tr>\n",
       "  </tbody>\n",
       "</table>\n",
       "</div>"
      ],
      "text/plain": [
       "                tweet_id                                            jpg_url  \\\n",
       "1409  770414278348247044    https://pbs.twimg.com/media/CrEPsfWXEAAKvem.jpg   \n",
       "288   671159727754231808    https://pbs.twimg.com/media/CVBwNjVWwAAlUFQ.jpg   \n",
       "512   676215927814406144    https://pbs.twimg.com/media/CWJmzNsWUAE706Z.jpg   \n",
       "986   707693576495472641    https://pbs.twimg.com/media/CdI7jDnW0AA2dtO.jpg   \n",
       "2007  877736472329191424    https://pbs.twimg.com/media/DC5YqoQW0AArOLH.jpg   \n",
       "1900  851464819735769094    https://pbs.twimg.com/media/C9ECujZXsAAPCSM.jpg   \n",
       "1708  817827839487737858  https://pbs.twimg.com/ext_tw_video_thumb/81782...   \n",
       "1961  866450705531457537    https://pbs.twimg.com/media/DAZAUfBXcAAG_Nn.jpg   \n",
       "698   684567543613382656    https://pbs.twimg.com/media/CYASi6FWQAEQMW2.jpg   \n",
       "1655  810284430598270976    https://pbs.twimg.com/media/Cz61ZD4W8AAcJEU.jpg   \n",
       "1187  739485634323156992    https://pbs.twimg.com/media/CkMuP7SWkAAD-2R.jpg   \n",
       "618   680221482581123072    https://pbs.twimg.com/media/CXCh0QZW8AALdXm.jpg   \n",
       "1752  824325613288833024    https://pbs.twimg.com/media/C3CXxaoWQAAiLuC.jpg   \n",
       "1236  746726898085036033    https://pbs.twimg.com/media/ClzoJz7WYAELHSf.jpg   \n",
       "1698  816816676327063552    https://pbs.twimg.com/media/C1XqbhXXUAElpfI.jpg   \n",
       "\n",
       "      img_num                        p1   p1_conf  p1_dog                  p2  \\\n",
       "1409        1                   maillot  0.580528   False             maillot   \n",
       "288         1                   pitcher  0.117446   False          sunglasses   \n",
       "512         1                   hamster  0.999484   False          guinea_pig   \n",
       "986         1                   bathtub  0.499525   False                 tub   \n",
       "2007        2  Chesapeake_Bay_retriever  0.837956    True  Labrador_retriever   \n",
       "1900        2                  web_site  0.919649   False                menu   \n",
       "1708        1            cocker_spaniel  0.387608    True    golden_retriever   \n",
       "1961        2            French_bulldog  0.905334    True         Boston_bull   \n",
       "698         1                   minibus  0.401942   False               llama   \n",
       "1655        1                  malamute  0.620768    True          Eskimo_dog   \n",
       "1187        2              Walker_hound  0.640256    True    English_foxhound   \n",
       "618         1                    bubble  0.240173   False                 hen   \n",
       "1752        1                  Pembroke  0.990793    True            Cardigan   \n",
       "1236        1          golden_retriever  0.256505    True  Labrador_retriever   \n",
       "1698        1                  malamute  0.668164    True            Pembroke   \n",
       "\n",
       "       p2_conf  p2_dog                p3   p3_conf  p3_dog  \n",
       "1409  0.081449   False  golden_retriever  0.053570    True  \n",
       "288   0.062487   False              mask  0.059517   False  \n",
       "512   0.000158   False          broccoli  0.000061   False  \n",
       "986   0.488014   False         washbasin  0.009298   False  \n",
       "2007  0.062034    True        Weimaraner  0.040599    True  \n",
       "1900  0.026306   False  crossword_puzzle  0.003482   False  \n",
       "1708  0.264844    True          Pekinese  0.122123    True  \n",
       "1961  0.078060    True               pug  0.001771    True  \n",
       "698   0.229145   False         seat_belt  0.209393   False  \n",
       "1655  0.158395    True   Tibetan_mastiff  0.028962    True  \n",
       "1187  0.229799    True            beagle  0.037754    True  \n",
       "618   0.146222   False             abaya  0.139342   False  \n",
       "1752  0.008919    True           basenji  0.000262    True  \n",
       "1236  0.252417    True         seat_belt  0.203163   False  \n",
       "1698  0.105033    True    Siberian_husky  0.077875    True  "
      ]
     },
     "execution_count": 8,
     "metadata": {},
     "output_type": "execute_result"
    }
   ],
   "source": [
    "df_prediction.sample(15)"
   ]
  },
  {
   "cell_type": "markdown",
   "metadata": {},
   "source": [
    "p1, p2, p3 has some values with uppercase"
   ]
  },
  {
   "cell_type": "code",
   "execution_count": 9,
   "metadata": {
    "scrolled": true
   },
   "outputs": [
    {
     "data": {
      "text/html": [
       "<div>\n",
       "<style scoped>\n",
       "    .dataframe tbody tr th:only-of-type {\n",
       "        vertical-align: middle;\n",
       "    }\n",
       "\n",
       "    .dataframe tbody tr th {\n",
       "        vertical-align: top;\n",
       "    }\n",
       "\n",
       "    .dataframe thead th {\n",
       "        text-align: right;\n",
       "    }\n",
       "</style>\n",
       "<table border=\"1\" class=\"dataframe\">\n",
       "  <thead>\n",
       "    <tr style=\"text-align: right;\">\n",
       "      <th></th>\n",
       "      <th>tweet_id</th>\n",
       "      <th>retweet_count</th>\n",
       "      <th>favorite_count</th>\n",
       "    </tr>\n",
       "  </thead>\n",
       "  <tbody>\n",
       "    <tr>\n",
       "      <th>732</th>\n",
       "      <td>781308096455073793</td>\n",
       "      <td>2961</td>\n",
       "      <td>7973</td>\n",
       "    </tr>\n",
       "    <tr>\n",
       "      <th>705</th>\n",
       "      <td>785533386513321988</td>\n",
       "      <td>2334</td>\n",
       "      <td>10183</td>\n",
       "    </tr>\n",
       "    <tr>\n",
       "      <th>600</th>\n",
       "      <td>798665375516884993</td>\n",
       "      <td>4519</td>\n",
       "      <td>0</td>\n",
       "    </tr>\n",
       "    <tr>\n",
       "      <th>721</th>\n",
       "      <td>783085703974514689</td>\n",
       "      <td>2565</td>\n",
       "      <td>9112</td>\n",
       "    </tr>\n",
       "    <tr>\n",
       "      <th>2260</th>\n",
       "      <td>667546741521195010</td>\n",
       "      <td>138</td>\n",
       "      <td>355</td>\n",
       "    </tr>\n",
       "    <tr>\n",
       "      <th>392</th>\n",
       "      <td>825876512159186944</td>\n",
       "      <td>2146</td>\n",
       "      <td>11525</td>\n",
       "    </tr>\n",
       "    <tr>\n",
       "      <th>748</th>\n",
       "      <td>779124354206535695</td>\n",
       "      <td>21324</td>\n",
       "      <td>0</td>\n",
       "    </tr>\n",
       "    <tr>\n",
       "      <th>1213</th>\n",
       "      <td>715009755312439296</td>\n",
       "      <td>1392</td>\n",
       "      <td>4550</td>\n",
       "    </tr>\n",
       "    <tr>\n",
       "      <th>975</th>\n",
       "      <td>750011400160841729</td>\n",
       "      <td>1035</td>\n",
       "      <td>3568</td>\n",
       "    </tr>\n",
       "    <tr>\n",
       "      <th>334</th>\n",
       "      <td>832645525019123713</td>\n",
       "      <td>594</td>\n",
       "      <td>3195</td>\n",
       "    </tr>\n",
       "    <tr>\n",
       "      <th>1101</th>\n",
       "      <td>735256018284875776</td>\n",
       "      <td>993</td>\n",
       "      <td>3675</td>\n",
       "    </tr>\n",
       "    <tr>\n",
       "      <th>852</th>\n",
       "      <td>765222098633691136</td>\n",
       "      <td>3914</td>\n",
       "      <td>12902</td>\n",
       "    </tr>\n",
       "    <tr>\n",
       "      <th>287</th>\n",
       "      <td>838476387338051585</td>\n",
       "      <td>5484</td>\n",
       "      <td>24664</td>\n",
       "    </tr>\n",
       "    <tr>\n",
       "      <th>51</th>\n",
       "      <td>882045870035918850</td>\n",
       "      <td>5203</td>\n",
       "      <td>29900</td>\n",
       "    </tr>\n",
       "    <tr>\n",
       "      <th>420</th>\n",
       "      <td>821886076407029760</td>\n",
       "      <td>2692</td>\n",
       "      <td>12582</td>\n",
       "    </tr>\n",
       "  </tbody>\n",
       "</table>\n",
       "</div>"
      ],
      "text/plain": [
       "                tweet_id  retweet_count  favorite_count\n",
       "732   781308096455073793           2961            7973\n",
       "705   785533386513321988           2334           10183\n",
       "600   798665375516884993           4519               0\n",
       "721   783085703974514689           2565            9112\n",
       "2260  667546741521195010            138             355\n",
       "392   825876512159186944           2146           11525\n",
       "748   779124354206535695          21324               0\n",
       "1213  715009755312439296           1392            4550\n",
       "975   750011400160841729           1035            3568\n",
       "334   832645525019123713            594            3195\n",
       "1101  735256018284875776            993            3675\n",
       "852   765222098633691136           3914           12902\n",
       "287   838476387338051585           5484           24664\n",
       "51    882045870035918850           5203           29900\n",
       "420   821886076407029760           2692           12582"
      ]
     },
     "execution_count": 9,
     "metadata": {},
     "output_type": "execute_result"
    }
   ],
   "source": [
    "related_data.sample(15)"
   ]
  },
  {
   "cell_type": "markdown",
   "metadata": {},
   "source": [
    "### Programatic Assessment:\n"
   ]
  },
  {
   "cell_type": "code",
   "execution_count": 10,
   "metadata": {
    "scrolled": false
   },
   "outputs": [
    {
     "name": "stdout",
     "output_type": "stream",
     "text": [
      "<class 'pandas.core.frame.DataFrame'>\n",
      "RangeIndex: 2356 entries, 0 to 2355\n",
      "Data columns (total 17 columns):\n",
      "tweet_id                      2356 non-null int64\n",
      "in_reply_to_status_id         78 non-null float64\n",
      "in_reply_to_user_id           78 non-null float64\n",
      "timestamp                     2356 non-null object\n",
      "source                        2356 non-null object\n",
      "text                          2356 non-null object\n",
      "retweeted_status_id           181 non-null float64\n",
      "retweeted_status_user_id      181 non-null float64\n",
      "retweeted_status_timestamp    181 non-null object\n",
      "expanded_urls                 2297 non-null object\n",
      "rating_numerator              2356 non-null int64\n",
      "rating_denominator            2356 non-null int64\n",
      "name                          2356 non-null object\n",
      "doggo                         2356 non-null object\n",
      "floofer                       2356 non-null object\n",
      "pupper                        2356 non-null object\n",
      "puppo                         2356 non-null object\n",
      "dtypes: float64(4), int64(3), object(10)\n",
      "memory usage: 313.0+ KB\n"
     ]
    }
   ],
   "source": [
    "df_archive.info()"
   ]
  },
  {
   "cell_type": "markdown",
   "metadata": {},
   "source": [
    "since we are not interested in retweets , those missing values are fine, we will deal with them later\n",
    "expanded urls are missing\n"
   ]
  },
  {
   "cell_type": "code",
   "execution_count": 11,
   "metadata": {
    "scrolled": true
   },
   "outputs": [
    {
     "name": "stdout",
     "output_type": "stream",
     "text": [
      "<class 'pandas.core.frame.DataFrame'>\n",
      "RangeIndex: 2075 entries, 0 to 2074\n",
      "Data columns (total 12 columns):\n",
      "tweet_id    2075 non-null int64\n",
      "jpg_url     2075 non-null object\n",
      "img_num     2075 non-null int64\n",
      "p1          2075 non-null object\n",
      "p1_conf     2075 non-null float64\n",
      "p1_dog      2075 non-null bool\n",
      "p2          2075 non-null object\n",
      "p2_conf     2075 non-null float64\n",
      "p2_dog      2075 non-null bool\n",
      "p3          2075 non-null object\n",
      "p3_conf     2075 non-null float64\n",
      "p3_dog      2075 non-null bool\n",
      "dtypes: bool(3), float64(3), int64(2), object(4)\n",
      "memory usage: 152.1+ KB\n"
     ]
    }
   ],
   "source": [
    "df_prediction.info()"
   ]
  },
  {
   "cell_type": "code",
   "execution_count": 12,
   "metadata": {
    "scrolled": false
   },
   "outputs": [
    {
     "name": "stdout",
     "output_type": "stream",
     "text": [
      "<class 'pandas.core.frame.DataFrame'>\n",
      "RangeIndex: 2354 entries, 0 to 2353\n",
      "Data columns (total 3 columns):\n",
      "tweet_id          2354 non-null int64\n",
      "retweet_count     2354 non-null int64\n",
      "favorite_count    2354 non-null int64\n",
      "dtypes: int64(3)\n",
      "memory usage: 55.2 KB\n"
     ]
    }
   ],
   "source": [
    "related_data.info()"
   ]
  },
  {
   "cell_type": "markdown",
   "metadata": {},
   "source": [
    "\"tweet_id\" datatype is integer for 3 datasets \n",
    "\n",
    "\"timestamp\" datatype is not in datetime type \n",
    "\n"
   ]
  },
  {
   "cell_type": "code",
   "execution_count": 13,
   "metadata": {},
   "outputs": [
    {
     "data": {
      "text/html": [
       "<div>\n",
       "<style scoped>\n",
       "    .dataframe tbody tr th:only-of-type {\n",
       "        vertical-align: middle;\n",
       "    }\n",
       "\n",
       "    .dataframe tbody tr th {\n",
       "        vertical-align: top;\n",
       "    }\n",
       "\n",
       "    .dataframe thead th {\n",
       "        text-align: right;\n",
       "    }\n",
       "</style>\n",
       "<table border=\"1\" class=\"dataframe\">\n",
       "  <thead>\n",
       "    <tr style=\"text-align: right;\">\n",
       "      <th></th>\n",
       "      <th>tweet_id</th>\n",
       "      <th>retweet_count</th>\n",
       "      <th>favorite_count</th>\n",
       "    </tr>\n",
       "  </thead>\n",
       "  <tbody>\n",
       "    <tr>\n",
       "      <th>count</th>\n",
       "      <td>2.354000e+03</td>\n",
       "      <td>2354.000000</td>\n",
       "      <td>2354.000000</td>\n",
       "    </tr>\n",
       "    <tr>\n",
       "      <th>mean</th>\n",
       "      <td>7.426978e+17</td>\n",
       "      <td>3164.797366</td>\n",
       "      <td>8080.968564</td>\n",
       "    </tr>\n",
       "    <tr>\n",
       "      <th>std</th>\n",
       "      <td>6.852812e+16</td>\n",
       "      <td>5284.770364</td>\n",
       "      <td>11814.771334</td>\n",
       "    </tr>\n",
       "    <tr>\n",
       "      <th>min</th>\n",
       "      <td>6.660209e+17</td>\n",
       "      <td>0.000000</td>\n",
       "      <td>0.000000</td>\n",
       "    </tr>\n",
       "    <tr>\n",
       "      <th>25%</th>\n",
       "      <td>6.783975e+17</td>\n",
       "      <td>624.500000</td>\n",
       "      <td>1415.000000</td>\n",
       "    </tr>\n",
       "    <tr>\n",
       "      <th>50%</th>\n",
       "      <td>7.194596e+17</td>\n",
       "      <td>1473.500000</td>\n",
       "      <td>3603.500000</td>\n",
       "    </tr>\n",
       "    <tr>\n",
       "      <th>75%</th>\n",
       "      <td>7.993058e+17</td>\n",
       "      <td>3652.000000</td>\n",
       "      <td>10122.250000</td>\n",
       "    </tr>\n",
       "    <tr>\n",
       "      <th>max</th>\n",
       "      <td>8.924206e+17</td>\n",
       "      <td>79515.000000</td>\n",
       "      <td>132810.000000</td>\n",
       "    </tr>\n",
       "  </tbody>\n",
       "</table>\n",
       "</div>"
      ],
      "text/plain": [
       "           tweet_id  retweet_count  favorite_count\n",
       "count  2.354000e+03    2354.000000     2354.000000\n",
       "mean   7.426978e+17    3164.797366     8080.968564\n",
       "std    6.852812e+16    5284.770364    11814.771334\n",
       "min    6.660209e+17       0.000000        0.000000\n",
       "25%    6.783975e+17     624.500000     1415.000000\n",
       "50%    7.194596e+17    1473.500000     3603.500000\n",
       "75%    7.993058e+17    3652.000000    10122.250000\n",
       "max    8.924206e+17   79515.000000   132810.000000"
      ]
     },
     "execution_count": 13,
     "metadata": {},
     "output_type": "execute_result"
    }
   ],
   "source": [
    "related_data.describe()"
   ]
  },
  {
   "cell_type": "code",
   "execution_count": 14,
   "metadata": {},
   "outputs": [
    {
     "data": {
      "text/plain": [
       "True     2175\n",
       "False     181\n",
       "Name: retweeted_status_user_id, dtype: int64"
      ]
     },
     "execution_count": 14,
     "metadata": {},
     "output_type": "execute_result"
    }
   ],
   "source": [
    "df_archive[\"retweeted_status_user_id\"].isna().value_counts()"
   ]
  },
  {
   "cell_type": "markdown",
   "metadata": {},
   "source": [
    "there are 181 retweet"
   ]
  },
  {
   "cell_type": "code",
   "execution_count": 15,
   "metadata": {},
   "outputs": [
    {
     "data": {
      "text/plain": [
       "59"
      ]
     },
     "execution_count": 15,
     "metadata": {},
     "output_type": "execute_result"
    }
   ],
   "source": [
    "df_archive[\"expanded_urls\"].isna().sum()"
   ]
  },
  {
   "cell_type": "markdown",
   "metadata": {},
   "source": [
    "59 null values in \"expanded_urls]"
   ]
  },
  {
   "cell_type": "code",
   "execution_count": 16,
   "metadata": {
    "scrolled": false
   },
   "outputs": [
    {
     "data": {
      "text/plain": [
       "12      558\n",
       "11      464\n",
       "10      461\n",
       "13      351\n",
       "9       158\n",
       "8       102\n",
       "7        55\n",
       "14       54\n",
       "5        37\n",
       "6        32\n",
       "3        19\n",
       "4        17\n",
       "1         9\n",
       "2         9\n",
       "420       2\n",
       "0         2\n",
       "15        2\n",
       "75        2\n",
       "80        1\n",
       "20        1\n",
       "24        1\n",
       "26        1\n",
       "44        1\n",
       "50        1\n",
       "60        1\n",
       "165       1\n",
       "84        1\n",
       "88        1\n",
       "144       1\n",
       "182       1\n",
       "143       1\n",
       "666       1\n",
       "960       1\n",
       "1776      1\n",
       "17        1\n",
       "27        1\n",
       "45        1\n",
       "99        1\n",
       "121       1\n",
       "204       1\n",
       "Name: rating_numerator, dtype: int64"
      ]
     },
     "execution_count": 16,
     "metadata": {},
     "output_type": "execute_result"
    }
   ],
   "source": [
    "df_archive[\"rating_numerator\"].value_counts()"
   ]
  },
  {
   "cell_type": "markdown",
   "metadata": {},
   "source": [
    "many values in \"rating numerator\" are invalid"
   ]
  },
  {
   "cell_type": "code",
   "execution_count": 17,
   "metadata": {
    "scrolled": true
   },
   "outputs": [
    {
     "data": {
      "text/plain": [
       "\"This is Phineas. He's a mystical boy. Only ever appears in the hole of a donut. 13/10 https://t.co/MgUWQ76dJU\""
      ]
     },
     "execution_count": 17,
     "metadata": {},
     "output_type": "execute_result"
    }
   ],
   "source": [
    "df_archive[\"text\"][0]"
   ]
  },
  {
   "cell_type": "markdown",
   "metadata": {},
   "source": [
    "\"text\" value contains text and url "
   ]
  },
  {
   "cell_type": "code",
   "execution_count": 18,
   "metadata": {},
   "outputs": [
    {
     "data": {
      "text/plain": [
       "10     2333\n",
       "11        3\n",
       "50        3\n",
       "80        2\n",
       "20        2\n",
       "2         1\n",
       "16        1\n",
       "40        1\n",
       "70        1\n",
       "15        1\n",
       "90        1\n",
       "110       1\n",
       "120       1\n",
       "130       1\n",
       "150       1\n",
       "170       1\n",
       "7         1\n",
       "0         1\n",
       "Name: rating_denominator, dtype: int64"
      ]
     },
     "execution_count": 18,
     "metadata": {},
     "output_type": "execute_result"
    }
   ],
   "source": [
    "df_archive[\"rating_denominator\"].value_counts()"
   ]
  },
  {
   "cell_type": "markdown",
   "metadata": {},
   "source": [
    "rating_denominator has values other than 10"
   ]
  },
  {
   "cell_type": "code",
   "execution_count": 19,
   "metadata": {
    "scrolled": false
   },
   "outputs": [
    {
     "name": "stdout",
     "output_type": "stream",
     "text": [
      "None     2259\n",
      "doggo      97\n",
      "Name: doggo, dtype: int64 None       2346\n",
      "floofer      10\n",
      "Name: floofer, dtype: int64 None      2099\n",
      "pupper     257\n",
      "Name: pupper, dtype: int64 None     2326\n",
      "puppo      30\n",
      "Name: puppo, dtype: int64\n"
     ]
    }
   ],
   "source": [
    "print(df_archive[\"doggo\"].value_counts(),      \n",
    "df_archive[\"floofer\"].value_counts(),\n",
    "df_archive[\"pupper\"].value_counts(),\n",
    "df_archive[\"puppo\"].value_counts())"
   ]
  },
  {
   "cell_type": "markdown",
   "metadata": {},
   "source": [
    "Many dog names are unavailable, \n",
    "dog stages are spread in 4 columns"
   ]
  },
  {
   "cell_type": "code",
   "execution_count": 20,
   "metadata": {
    "scrolled": true
   },
   "outputs": [
    {
     "data": {
      "text/html": [
       "<div>\n",
       "<style scoped>\n",
       "    .dataframe tbody tr th:only-of-type {\n",
       "        vertical-align: middle;\n",
       "    }\n",
       "\n",
       "    .dataframe tbody tr th {\n",
       "        vertical-align: top;\n",
       "    }\n",
       "\n",
       "    .dataframe thead th {\n",
       "        text-align: right;\n",
       "    }\n",
       "</style>\n",
       "<table border=\"1\" class=\"dataframe\">\n",
       "  <thead>\n",
       "    <tr style=\"text-align: right;\">\n",
       "      <th></th>\n",
       "      <th>p1</th>\n",
       "      <th>p2</th>\n",
       "      <th>p3</th>\n",
       "    </tr>\n",
       "  </thead>\n",
       "  <tbody>\n",
       "    <tr>\n",
       "      <th>0</th>\n",
       "      <td>Welsh_springer_spaniel</td>\n",
       "      <td>collie</td>\n",
       "      <td>Shetland_sheepdog</td>\n",
       "    </tr>\n",
       "    <tr>\n",
       "      <th>1</th>\n",
       "      <td>redbone</td>\n",
       "      <td>miniature_pinscher</td>\n",
       "      <td>Rhodesian_ridgeback</td>\n",
       "    </tr>\n",
       "    <tr>\n",
       "      <th>2</th>\n",
       "      <td>German_shepherd</td>\n",
       "      <td>malinois</td>\n",
       "      <td>bloodhound</td>\n",
       "    </tr>\n",
       "    <tr>\n",
       "      <th>3</th>\n",
       "      <td>Rhodesian_ridgeback</td>\n",
       "      <td>redbone</td>\n",
       "      <td>miniature_pinscher</td>\n",
       "    </tr>\n",
       "    <tr>\n",
       "      <th>4</th>\n",
       "      <td>miniature_pinscher</td>\n",
       "      <td>Rottweiler</td>\n",
       "      <td>Doberman</td>\n",
       "    </tr>\n",
       "    <tr>\n",
       "      <th>5</th>\n",
       "      <td>Bernese_mountain_dog</td>\n",
       "      <td>English_springer</td>\n",
       "      <td>Greater_Swiss_Mountain_dog</td>\n",
       "    </tr>\n",
       "    <tr>\n",
       "      <th>6</th>\n",
       "      <td>box_turtle</td>\n",
       "      <td>mud_turtle</td>\n",
       "      <td>terrapin</td>\n",
       "    </tr>\n",
       "    <tr>\n",
       "      <th>7</th>\n",
       "      <td>chow</td>\n",
       "      <td>Tibetan_mastiff</td>\n",
       "      <td>fur_coat</td>\n",
       "    </tr>\n",
       "    <tr>\n",
       "      <th>8</th>\n",
       "      <td>shopping_cart</td>\n",
       "      <td>shopping_basket</td>\n",
       "      <td>golden_retriever</td>\n",
       "    </tr>\n",
       "    <tr>\n",
       "      <th>9</th>\n",
       "      <td>miniature_poodle</td>\n",
       "      <td>komondor</td>\n",
       "      <td>soft-coated_wheaten_terrier</td>\n",
       "    </tr>\n",
       "    <tr>\n",
       "      <th>10</th>\n",
       "      <td>golden_retriever</td>\n",
       "      <td>Tibetan_mastiff</td>\n",
       "      <td>Labrador_retriever</td>\n",
       "    </tr>\n",
       "    <tr>\n",
       "      <th>11</th>\n",
       "      <td>Gordon_setter</td>\n",
       "      <td>Yorkshire_terrier</td>\n",
       "      <td>Pekinese</td>\n",
       "    </tr>\n",
       "    <tr>\n",
       "      <th>12</th>\n",
       "      <td>Walker_hound</td>\n",
       "      <td>English_foxhound</td>\n",
       "      <td>Ibizan_hound</td>\n",
       "    </tr>\n",
       "    <tr>\n",
       "      <th>13</th>\n",
       "      <td>pug</td>\n",
       "      <td>bull_mastiff</td>\n",
       "      <td>French_bulldog</td>\n",
       "    </tr>\n",
       "    <tr>\n",
       "      <th>14</th>\n",
       "      <td>bloodhound</td>\n",
       "      <td>German_shepherd</td>\n",
       "      <td>malinois</td>\n",
       "    </tr>\n",
       "  </tbody>\n",
       "</table>\n",
       "</div>"
      ],
      "text/plain": [
       "                        p1                  p2                           p3\n",
       "0   Welsh_springer_spaniel              collie            Shetland_sheepdog\n",
       "1                  redbone  miniature_pinscher          Rhodesian_ridgeback\n",
       "2          German_shepherd            malinois                   bloodhound\n",
       "3      Rhodesian_ridgeback             redbone           miniature_pinscher\n",
       "4       miniature_pinscher          Rottweiler                     Doberman\n",
       "5     Bernese_mountain_dog    English_springer   Greater_Swiss_Mountain_dog\n",
       "6               box_turtle          mud_turtle                     terrapin\n",
       "7                     chow     Tibetan_mastiff                     fur_coat\n",
       "8            shopping_cart     shopping_basket             golden_retriever\n",
       "9         miniature_poodle            komondor  soft-coated_wheaten_terrier\n",
       "10        golden_retriever     Tibetan_mastiff           Labrador_retriever\n",
       "11           Gordon_setter   Yorkshire_terrier                     Pekinese\n",
       "12            Walker_hound    English_foxhound                 Ibizan_hound\n",
       "13                     pug        bull_mastiff               French_bulldog\n",
       "14              bloodhound     German_shepherd                     malinois"
      ]
     },
     "execution_count": 20,
     "metadata": {},
     "output_type": "execute_result"
    }
   ],
   "source": [
    "df_prediction[[\"p1\", \"p2\", \"p3\"]].head(15)"
   ]
  },
  {
   "cell_type": "markdown",
   "metadata": {},
   "source": [
    "p1, p2, p3 has some uppercase "
   ]
  },
  {
   "cell_type": "code",
   "execution_count": 21,
   "metadata": {
    "scrolled": true
   },
   "outputs": [
    {
     "data": {
      "text/html": [
       "<div>\n",
       "<style scoped>\n",
       "    .dataframe tbody tr th:only-of-type {\n",
       "        vertical-align: middle;\n",
       "    }\n",
       "\n",
       "    .dataframe tbody tr th {\n",
       "        vertical-align: top;\n",
       "    }\n",
       "\n",
       "    .dataframe thead th {\n",
       "        text-align: right;\n",
       "    }\n",
       "</style>\n",
       "<table border=\"1\" class=\"dataframe\">\n",
       "  <thead>\n",
       "    <tr style=\"text-align: right;\">\n",
       "      <th></th>\n",
       "      <th>tweet_id</th>\n",
       "      <th>img_num</th>\n",
       "      <th>p1_conf</th>\n",
       "      <th>p2_conf</th>\n",
       "      <th>p3_conf</th>\n",
       "    </tr>\n",
       "  </thead>\n",
       "  <tbody>\n",
       "    <tr>\n",
       "      <th>count</th>\n",
       "      <td>2.075000e+03</td>\n",
       "      <td>2075.000000</td>\n",
       "      <td>2075.000000</td>\n",
       "      <td>2.075000e+03</td>\n",
       "      <td>2.075000e+03</td>\n",
       "    </tr>\n",
       "    <tr>\n",
       "      <th>mean</th>\n",
       "      <td>7.384514e+17</td>\n",
       "      <td>1.203855</td>\n",
       "      <td>0.594548</td>\n",
       "      <td>1.345886e-01</td>\n",
       "      <td>6.032417e-02</td>\n",
       "    </tr>\n",
       "    <tr>\n",
       "      <th>std</th>\n",
       "      <td>6.785203e+16</td>\n",
       "      <td>0.561875</td>\n",
       "      <td>0.271174</td>\n",
       "      <td>1.006657e-01</td>\n",
       "      <td>5.090593e-02</td>\n",
       "    </tr>\n",
       "    <tr>\n",
       "      <th>min</th>\n",
       "      <td>6.660209e+17</td>\n",
       "      <td>1.000000</td>\n",
       "      <td>0.044333</td>\n",
       "      <td>1.011300e-08</td>\n",
       "      <td>1.740170e-10</td>\n",
       "    </tr>\n",
       "    <tr>\n",
       "      <th>25%</th>\n",
       "      <td>6.764835e+17</td>\n",
       "      <td>1.000000</td>\n",
       "      <td>0.364412</td>\n",
       "      <td>5.388625e-02</td>\n",
       "      <td>1.622240e-02</td>\n",
       "    </tr>\n",
       "    <tr>\n",
       "      <th>50%</th>\n",
       "      <td>7.119988e+17</td>\n",
       "      <td>1.000000</td>\n",
       "      <td>0.588230</td>\n",
       "      <td>1.181810e-01</td>\n",
       "      <td>4.944380e-02</td>\n",
       "    </tr>\n",
       "    <tr>\n",
       "      <th>75%</th>\n",
       "      <td>7.932034e+17</td>\n",
       "      <td>1.000000</td>\n",
       "      <td>0.843855</td>\n",
       "      <td>1.955655e-01</td>\n",
       "      <td>9.180755e-02</td>\n",
       "    </tr>\n",
       "    <tr>\n",
       "      <th>max</th>\n",
       "      <td>8.924206e+17</td>\n",
       "      <td>4.000000</td>\n",
       "      <td>1.000000</td>\n",
       "      <td>4.880140e-01</td>\n",
       "      <td>2.734190e-01</td>\n",
       "    </tr>\n",
       "  </tbody>\n",
       "</table>\n",
       "</div>"
      ],
      "text/plain": [
       "           tweet_id      img_num      p1_conf       p2_conf       p3_conf\n",
       "count  2.075000e+03  2075.000000  2075.000000  2.075000e+03  2.075000e+03\n",
       "mean   7.384514e+17     1.203855     0.594548  1.345886e-01  6.032417e-02\n",
       "std    6.785203e+16     0.561875     0.271174  1.006657e-01  5.090593e-02\n",
       "min    6.660209e+17     1.000000     0.044333  1.011300e-08  1.740170e-10\n",
       "25%    6.764835e+17     1.000000     0.364412  5.388625e-02  1.622240e-02\n",
       "50%    7.119988e+17     1.000000     0.588230  1.181810e-01  4.944380e-02\n",
       "75%    7.932034e+17     1.000000     0.843855  1.955655e-01  9.180755e-02\n",
       "max    8.924206e+17     4.000000     1.000000  4.880140e-01  2.734190e-01"
      ]
     },
     "execution_count": 21,
     "metadata": {},
     "output_type": "execute_result"
    }
   ],
   "source": [
    "df_prediction.describe()"
   ]
  },
  {
   "cell_type": "markdown",
   "metadata": {},
   "source": [
    "### Quality issues\n",
    "1. retweets in df\n",
    "\n",
    "2. Missing values in columns and unnecessary columns\n",
    "\n",
    "3. tweet_id type are integer instead of string\n",
    "\n",
    "4. timestamp column in  is not in datetime type \n",
    "\n",
    "5. values \"floofer\" in stage should be named \"floof\"\n",
    "\n",
    "6.  rating denominator has values other than 10\n",
    "\n",
    "7. rating numerator has many invalid values\n",
    "\n",
    "8. [165, 204, 5,420] are invalid ratings\n",
    "\n",
    "9. change numerator_rating data type to integer\n",
    "\n",
    "10. dog breeds in p1, p2, p3 has some uppercase\n",
    "\n",
    "11. column name with \"p\" in df_prediction are not understandable\n",
    "\n",
    "12. some tweets don't have image and prediction data\n",
    "\n"
   ]
  },
  {
   "cell_type": "markdown",
   "metadata": {
    "extensions": {
     "jupyter_dashboards": {
      "version": 1,
      "views": {
       "grid_default": {
        "col": 0,
        "height": 7,
        "hidden": false,
        "row": 40,
        "width": 12
       },
       "report_default": {
        "hidden": false
       }
      }
     }
    }
   },
   "source": [
    "### Tidiness issues\n",
    "1.Information about one type of observational unit \"tweets\" is in 3 tables\n",
    "\n",
    "2.the dog stage is spread across 4 variables\n",
    "\n",
    "3.text column contain text and urls\n",
    "\n",
    "\n"
   ]
  },
  {
   "cell_type": "markdown",
   "metadata": {
    "extensions": {
     "jupyter_dashboards": {
      "version": 1,
      "views": {
       "grid_default": {
        "col": 4,
        "height": 4,
        "hidden": false,
        "row": 32,
        "width": 4
       },
       "report_default": {
        "hidden": false
       }
      }
     }
    }
   },
   "source": [
    "## Cleaning Data\n",
    "In this section, clean **all** of the issues you documented while assessing. \n",
    "\n",
    "**Note:** Make a copy of the original data before cleaning. Cleaning includes merging individual pieces of data according to the rules of [tidy data](https://cran.r-project.org/web/packages/tidyr/vignettes/tidy-data.html). The result should be a high-quality and tidy master pandas DataFrame (or DataFrames, if appropriate)."
   ]
  },
  {
   "cell_type": "code",
   "execution_count": 22,
   "metadata": {},
   "outputs": [],
   "source": [
    "# Make copies of original pieces of data\n",
    "df_archive_copy = df_archive.copy()\n",
    "df_prediction_copy = df_prediction.copy()\n",
    "related_data_copy = related_data.copy()"
   ]
  },
  {
   "cell_type": "markdown",
   "metadata": {},
   "source": [
    "### Issue #1:  many retweets in df_archive"
   ]
  },
  {
   "cell_type": "markdown",
   "metadata": {
    "collapsed": true,
    "extensions": {
     "jupyter_dashboards": {
      "version": 1,
      "views": {
       "grid_default": {
        "hidden": true
       },
       "report_default": {
        "hidden": true
       }
      }
     }
    }
   },
   "source": [
    "####  Remove all observations in df_archive  that have values in in_reply_to_status_id or retweeted_status_id"
   ]
  },
  {
   "cell_type": "markdown",
   "metadata": {},
   "source": [
    "#### Code"
   ]
  },
  {
   "cell_type": "code",
   "execution_count": 23,
   "metadata": {},
   "outputs": [],
   "source": [
    "df_archive = df_archive[(df_archive['in_reply_to_status_id'].isna() == True)  & (df_archive['retweeted_status_id'].isna() == True)]\n"
   ]
  },
  {
   "cell_type": "markdown",
   "metadata": {},
   "source": [
    "#### Test"
   ]
  },
  {
   "cell_type": "code",
   "execution_count": 24,
   "metadata": {
    "scrolled": true
   },
   "outputs": [
    {
     "name": "stdout",
     "output_type": "stream",
     "text": [
      "<class 'pandas.core.frame.DataFrame'>\n",
      "Int64Index: 2097 entries, 0 to 2355\n",
      "Data columns (total 17 columns):\n",
      "tweet_id                      2097 non-null int64\n",
      "in_reply_to_status_id         0 non-null float64\n",
      "in_reply_to_user_id           0 non-null float64\n",
      "timestamp                     2097 non-null object\n",
      "source                        2097 non-null object\n",
      "text                          2097 non-null object\n",
      "retweeted_status_id           0 non-null float64\n",
      "retweeted_status_user_id      0 non-null float64\n",
      "retweeted_status_timestamp    0 non-null object\n",
      "expanded_urls                 2094 non-null object\n",
      "rating_numerator              2097 non-null int64\n",
      "rating_denominator            2097 non-null int64\n",
      "name                          2097 non-null object\n",
      "doggo                         2097 non-null object\n",
      "floofer                       2097 non-null object\n",
      "pupper                        2097 non-null object\n",
      "puppo                         2097 non-null object\n",
      "dtypes: float64(4), int64(3), object(10)\n",
      "memory usage: 294.9+ KB\n"
     ]
    }
   ],
   "source": [
    "df_archive.info()"
   ]
  },
  {
   "cell_type": "markdown",
   "metadata": {},
   "source": [
    "### Issue #2:  Missing values in columns and unnecessary columns\n"
   ]
  },
  {
   "cell_type": "markdown",
   "metadata": {},
   "source": [
    "#### Using the drop method : drop unecessary columns"
   ]
  },
  {
   "cell_type": "markdown",
   "metadata": {},
   "source": [
    "Code : "
   ]
  },
  {
   "cell_type": "code",
   "execution_count": 25,
   "metadata": {
    "scrolled": true
   },
   "outputs": [],
   "source": [
    "df_archive = df_archive.drop(['in_reply_to_status_id','in_reply_to_user_id','retweeted_status_id',\n",
    "                              'retweeted_status_user_id','retweeted_status_timestamp'],axis = 1)"
   ]
  },
  {
   "cell_type": "markdown",
   "metadata": {},
   "source": [
    "Test : "
   ]
  },
  {
   "cell_type": "code",
   "execution_count": 26,
   "metadata": {
    "scrolled": true
   },
   "outputs": [
    {
     "name": "stdout",
     "output_type": "stream",
     "text": [
      "<class 'pandas.core.frame.DataFrame'>\n",
      "Int64Index: 2097 entries, 0 to 2355\n",
      "Data columns (total 12 columns):\n",
      "tweet_id              2097 non-null int64\n",
      "timestamp             2097 non-null object\n",
      "source                2097 non-null object\n",
      "text                  2097 non-null object\n",
      "expanded_urls         2094 non-null object\n",
      "rating_numerator      2097 non-null int64\n",
      "rating_denominator    2097 non-null int64\n",
      "name                  2097 non-null object\n",
      "doggo                 2097 non-null object\n",
      "floofer               2097 non-null object\n",
      "pupper                2097 non-null object\n",
      "puppo                 2097 non-null object\n",
      "dtypes: int64(3), object(9)\n",
      "memory usage: 213.0+ KB\n"
     ]
    }
   ],
   "source": [
    "df_archive.info()"
   ]
  },
  {
   "cell_type": "markdown",
   "metadata": {},
   "source": []
  },
  {
   "cell_type": "code",
   "execution_count": 27,
   "metadata": {},
   "outputs": [],
   "source": [
    "df_archive.dropna(axis = 0, how = \"any\", inplace =True)"
   ]
  },
  {
   "cell_type": "code",
   "execution_count": 28,
   "metadata": {
    "scrolled": true
   },
   "outputs": [
    {
     "name": "stdout",
     "output_type": "stream",
     "text": [
      "<class 'pandas.core.frame.DataFrame'>\n",
      "Int64Index: 2094 entries, 0 to 2355\n",
      "Data columns (total 12 columns):\n",
      "tweet_id              2094 non-null int64\n",
      "timestamp             2094 non-null object\n",
      "source                2094 non-null object\n",
      "text                  2094 non-null object\n",
      "expanded_urls         2094 non-null object\n",
      "rating_numerator      2094 non-null int64\n",
      "rating_denominator    2094 non-null int64\n",
      "name                  2094 non-null object\n",
      "doggo                 2094 non-null object\n",
      "floofer               2094 non-null object\n",
      "pupper                2094 non-null object\n",
      "puppo                 2094 non-null object\n",
      "dtypes: int64(3), object(9)\n",
      "memory usage: 212.7+ KB\n"
     ]
    }
   ],
   "source": [
    "df_archive.info()"
   ]
  },
  {
   "cell_type": "code",
   "execution_count": null,
   "metadata": {},
   "outputs": [],
   "source": []
  },
  {
   "cell_type": "markdown",
   "metadata": {},
   "source": [
    "### Tidiness Issue #1: Information about one type of observational unit \"tweets\" is in 3 tables:"
   ]
  },
  {
   "cell_type": "markdown",
   "metadata": {},
   "source": [
    "#### combine df_archive , more_data, df_prediction  table using join(), method on the tweet_id column."
   ]
  },
  {
   "cell_type": "code",
   "execution_count": 29,
   "metadata": {},
   "outputs": [],
   "source": [
    "df_merged = df_archive.join(related_data.set_index('tweet_id'), on='tweet_id')\n",
    "df_combined = df_merged.join(df_prediction.set_index('tweet_id'), on='tweet_id')"
   ]
  },
  {
   "cell_type": "markdown",
   "metadata": {},
   "source": [
    "Test"
   ]
  },
  {
   "cell_type": "code",
   "execution_count": 30,
   "metadata": {
    "scrolled": false
   },
   "outputs": [
    {
     "data": {
      "text/html": [
       "<div>\n",
       "<style scoped>\n",
       "    .dataframe tbody tr th:only-of-type {\n",
       "        vertical-align: middle;\n",
       "    }\n",
       "\n",
       "    .dataframe tbody tr th {\n",
       "        vertical-align: top;\n",
       "    }\n",
       "\n",
       "    .dataframe thead th {\n",
       "        text-align: right;\n",
       "    }\n",
       "</style>\n",
       "<table border=\"1\" class=\"dataframe\">\n",
       "  <thead>\n",
       "    <tr style=\"text-align: right;\">\n",
       "      <th></th>\n",
       "      <th>tweet_id</th>\n",
       "      <th>timestamp</th>\n",
       "      <th>source</th>\n",
       "      <th>text</th>\n",
       "      <th>expanded_urls</th>\n",
       "      <th>rating_numerator</th>\n",
       "      <th>rating_denominator</th>\n",
       "      <th>name</th>\n",
       "      <th>doggo</th>\n",
       "      <th>floofer</th>\n",
       "      <th>...</th>\n",
       "      <th>img_num</th>\n",
       "      <th>p1</th>\n",
       "      <th>p1_conf</th>\n",
       "      <th>p1_dog</th>\n",
       "      <th>p2</th>\n",
       "      <th>p2_conf</th>\n",
       "      <th>p2_dog</th>\n",
       "      <th>p3</th>\n",
       "      <th>p3_conf</th>\n",
       "      <th>p3_dog</th>\n",
       "    </tr>\n",
       "  </thead>\n",
       "  <tbody>\n",
       "    <tr>\n",
       "      <th>0</th>\n",
       "      <td>892420643555336193</td>\n",
       "      <td>2017-08-01 16:23:56 +0000</td>\n",
       "      <td>&lt;a href=\"http://twitter.com/download/iphone\" r...</td>\n",
       "      <td>This is Phineas. He's a mystical boy. Only eve...</td>\n",
       "      <td>https://twitter.com/dog_rates/status/892420643...</td>\n",
       "      <td>13</td>\n",
       "      <td>10</td>\n",
       "      <td>Phineas</td>\n",
       "      <td>None</td>\n",
       "      <td>None</td>\n",
       "      <td>...</td>\n",
       "      <td>1.0</td>\n",
       "      <td>orange</td>\n",
       "      <td>0.097049</td>\n",
       "      <td>False</td>\n",
       "      <td>bagel</td>\n",
       "      <td>0.085851</td>\n",
       "      <td>False</td>\n",
       "      <td>banana</td>\n",
       "      <td>0.076110</td>\n",
       "      <td>False</td>\n",
       "    </tr>\n",
       "    <tr>\n",
       "      <th>1</th>\n",
       "      <td>892177421306343426</td>\n",
       "      <td>2017-08-01 00:17:27 +0000</td>\n",
       "      <td>&lt;a href=\"http://twitter.com/download/iphone\" r...</td>\n",
       "      <td>This is Tilly. She's just checking pup on you....</td>\n",
       "      <td>https://twitter.com/dog_rates/status/892177421...</td>\n",
       "      <td>13</td>\n",
       "      <td>10</td>\n",
       "      <td>Tilly</td>\n",
       "      <td>None</td>\n",
       "      <td>None</td>\n",
       "      <td>...</td>\n",
       "      <td>1.0</td>\n",
       "      <td>Chihuahua</td>\n",
       "      <td>0.323581</td>\n",
       "      <td>True</td>\n",
       "      <td>Pekinese</td>\n",
       "      <td>0.090647</td>\n",
       "      <td>True</td>\n",
       "      <td>papillon</td>\n",
       "      <td>0.068957</td>\n",
       "      <td>True</td>\n",
       "    </tr>\n",
       "    <tr>\n",
       "      <th>2</th>\n",
       "      <td>891815181378084864</td>\n",
       "      <td>2017-07-31 00:18:03 +0000</td>\n",
       "      <td>&lt;a href=\"http://twitter.com/download/iphone\" r...</td>\n",
       "      <td>This is Archie. He is a rare Norwegian Pouncin...</td>\n",
       "      <td>https://twitter.com/dog_rates/status/891815181...</td>\n",
       "      <td>12</td>\n",
       "      <td>10</td>\n",
       "      <td>Archie</td>\n",
       "      <td>None</td>\n",
       "      <td>None</td>\n",
       "      <td>...</td>\n",
       "      <td>1.0</td>\n",
       "      <td>Chihuahua</td>\n",
       "      <td>0.716012</td>\n",
       "      <td>True</td>\n",
       "      <td>malamute</td>\n",
       "      <td>0.078253</td>\n",
       "      <td>True</td>\n",
       "      <td>kelpie</td>\n",
       "      <td>0.031379</td>\n",
       "      <td>True</td>\n",
       "    </tr>\n",
       "    <tr>\n",
       "      <th>3</th>\n",
       "      <td>891689557279858688</td>\n",
       "      <td>2017-07-30 15:58:51 +0000</td>\n",
       "      <td>&lt;a href=\"http://twitter.com/download/iphone\" r...</td>\n",
       "      <td>This is Darla. She commenced a snooze mid meal...</td>\n",
       "      <td>https://twitter.com/dog_rates/status/891689557...</td>\n",
       "      <td>13</td>\n",
       "      <td>10</td>\n",
       "      <td>Darla</td>\n",
       "      <td>None</td>\n",
       "      <td>None</td>\n",
       "      <td>...</td>\n",
       "      <td>1.0</td>\n",
       "      <td>paper_towel</td>\n",
       "      <td>0.170278</td>\n",
       "      <td>False</td>\n",
       "      <td>Labrador_retriever</td>\n",
       "      <td>0.168086</td>\n",
       "      <td>True</td>\n",
       "      <td>spatula</td>\n",
       "      <td>0.040836</td>\n",
       "      <td>False</td>\n",
       "    </tr>\n",
       "    <tr>\n",
       "      <th>4</th>\n",
       "      <td>891327558926688256</td>\n",
       "      <td>2017-07-29 16:00:24 +0000</td>\n",
       "      <td>&lt;a href=\"http://twitter.com/download/iphone\" r...</td>\n",
       "      <td>This is Franklin. He would like you to stop ca...</td>\n",
       "      <td>https://twitter.com/dog_rates/status/891327558...</td>\n",
       "      <td>12</td>\n",
       "      <td>10</td>\n",
       "      <td>Franklin</td>\n",
       "      <td>None</td>\n",
       "      <td>None</td>\n",
       "      <td>...</td>\n",
       "      <td>2.0</td>\n",
       "      <td>basset</td>\n",
       "      <td>0.555712</td>\n",
       "      <td>True</td>\n",
       "      <td>English_springer</td>\n",
       "      <td>0.225770</td>\n",
       "      <td>True</td>\n",
       "      <td>German_short-haired_pointer</td>\n",
       "      <td>0.175219</td>\n",
       "      <td>True</td>\n",
       "    </tr>\n",
       "  </tbody>\n",
       "</table>\n",
       "<p>5 rows × 25 columns</p>\n",
       "</div>"
      ],
      "text/plain": [
       "             tweet_id                  timestamp  \\\n",
       "0  892420643555336193  2017-08-01 16:23:56 +0000   \n",
       "1  892177421306343426  2017-08-01 00:17:27 +0000   \n",
       "2  891815181378084864  2017-07-31 00:18:03 +0000   \n",
       "3  891689557279858688  2017-07-30 15:58:51 +0000   \n",
       "4  891327558926688256  2017-07-29 16:00:24 +0000   \n",
       "\n",
       "                                              source  \\\n",
       "0  <a href=\"http://twitter.com/download/iphone\" r...   \n",
       "1  <a href=\"http://twitter.com/download/iphone\" r...   \n",
       "2  <a href=\"http://twitter.com/download/iphone\" r...   \n",
       "3  <a href=\"http://twitter.com/download/iphone\" r...   \n",
       "4  <a href=\"http://twitter.com/download/iphone\" r...   \n",
       "\n",
       "                                                text  \\\n",
       "0  This is Phineas. He's a mystical boy. Only eve...   \n",
       "1  This is Tilly. She's just checking pup on you....   \n",
       "2  This is Archie. He is a rare Norwegian Pouncin...   \n",
       "3  This is Darla. She commenced a snooze mid meal...   \n",
       "4  This is Franklin. He would like you to stop ca...   \n",
       "\n",
       "                                       expanded_urls  rating_numerator  \\\n",
       "0  https://twitter.com/dog_rates/status/892420643...                13   \n",
       "1  https://twitter.com/dog_rates/status/892177421...                13   \n",
       "2  https://twitter.com/dog_rates/status/891815181...                12   \n",
       "3  https://twitter.com/dog_rates/status/891689557...                13   \n",
       "4  https://twitter.com/dog_rates/status/891327558...                12   \n",
       "\n",
       "   rating_denominator      name doggo floofer  ...   img_num           p1  \\\n",
       "0                  10   Phineas  None    None  ...       1.0       orange   \n",
       "1                  10     Tilly  None    None  ...       1.0    Chihuahua   \n",
       "2                  10    Archie  None    None  ...       1.0    Chihuahua   \n",
       "3                  10     Darla  None    None  ...       1.0  paper_towel   \n",
       "4                  10  Franklin  None    None  ...       2.0       basset   \n",
       "\n",
       "    p1_conf  p1_dog                  p2   p2_conf p2_dog  \\\n",
       "0  0.097049   False               bagel  0.085851  False   \n",
       "1  0.323581    True            Pekinese  0.090647   True   \n",
       "2  0.716012    True            malamute  0.078253   True   \n",
       "3  0.170278   False  Labrador_retriever  0.168086   True   \n",
       "4  0.555712    True    English_springer  0.225770   True   \n",
       "\n",
       "                            p3   p3_conf p3_dog  \n",
       "0                       banana  0.076110  False  \n",
       "1                     papillon  0.068957   True  \n",
       "2                       kelpie  0.031379   True  \n",
       "3                      spatula  0.040836  False  \n",
       "4  German_short-haired_pointer  0.175219   True  \n",
       "\n",
       "[5 rows x 25 columns]"
      ]
     },
     "execution_count": 30,
     "metadata": {},
     "output_type": "execute_result"
    }
   ],
   "source": [
    "df_combined.head()"
   ]
  },
  {
   "cell_type": "code",
   "execution_count": 31,
   "metadata": {},
   "outputs": [
    {
     "name": "stdout",
     "output_type": "stream",
     "text": [
      "<class 'pandas.core.frame.DataFrame'>\n",
      "Int64Index: 2094 entries, 0 to 2355\n",
      "Data columns (total 25 columns):\n",
      "tweet_id              2094 non-null int64\n",
      "timestamp             2094 non-null object\n",
      "source                2094 non-null object\n",
      "text                  2094 non-null object\n",
      "expanded_urls         2094 non-null object\n",
      "rating_numerator      2094 non-null int64\n",
      "rating_denominator    2094 non-null int64\n",
      "name                  2094 non-null object\n",
      "doggo                 2094 non-null object\n",
      "floofer               2094 non-null object\n",
      "pupper                2094 non-null object\n",
      "puppo                 2094 non-null object\n",
      "retweet_count         2094 non-null int64\n",
      "favorite_count        2094 non-null int64\n",
      "jpg_url               1971 non-null object\n",
      "img_num               1971 non-null float64\n",
      "p1                    1971 non-null object\n",
      "p1_conf               1971 non-null float64\n",
      "p1_dog                1971 non-null object\n",
      "p2                    1971 non-null object\n",
      "p2_conf               1971 non-null float64\n",
      "p2_dog                1971 non-null object\n",
      "p3                    1971 non-null object\n",
      "p3_conf               1971 non-null float64\n",
      "p3_dog                1971 non-null object\n",
      "dtypes: float64(4), int64(5), object(16)\n",
      "memory usage: 425.3+ KB\n"
     ]
    }
   ],
   "source": [
    "df_combined.info()"
   ]
  },
  {
   "cell_type": "markdown",
   "metadata": {},
   "source": [
    "### Tidiness Issue #2 : the dog stage is spread across 4 variables"
   ]
  },
  {
   "cell_type": "markdown",
   "metadata": {},
   "source": [
    "we use replace to remove \"None\" values then combine 4 columns into 1 and format entries with multiple dog stages\n",
    "\n",
    "drop columns : \"doggo\" ,\"floofer\", \"pupper\", \"puppo\" "
   ]
  },
  {
   "cell_type": "markdown",
   "metadata": {},
   "source": [
    "Code : "
   ]
  },
  {
   "cell_type": "code",
   "execution_count": 32,
   "metadata": {},
   "outputs": [],
   "source": [
    "dog_stages = [ \"doggo\" ,\"floofer\", \"pupper\", \"puppo\"]\n",
    "for stage in dog_stages : \n",
    "    df_combined[stage].replace('None', '', inplace=True)\n",
    "    "
   ]
  },
  {
   "cell_type": "code",
   "execution_count": 33,
   "metadata": {},
   "outputs": [],
   "source": [
    "df_combined['stage'] = df_combined.doggo + df_combined.floofer + df_combined.pupper + df_combined.puppo"
   ]
  },
  {
   "cell_type": "code",
   "execution_count": 34,
   "metadata": {},
   "outputs": [],
   "source": [
    "df_combined.loc[df_combined.stage == 'doggopupper', 'stage'] = 'doggo,pupper' \n",
    "df_combined.loc[df_combined.stage == 'doggopuppo', 'stage'] = 'doggo,puppo' \n",
    "df_combined.loc[df_combined.stage == 'doggofloofer', 'stage'] = 'doggo,floofer'"
   ]
  },
  {
   "cell_type": "code",
   "execution_count": 35,
   "metadata": {},
   "outputs": [],
   "source": [
    "df_combined.drop(columns = [\"doggo\", \"floofer\", \"pupper\", \"puppo\"], inplace = True)"
   ]
  },
  {
   "cell_type": "markdown",
   "metadata": {},
   "source": [
    "Test"
   ]
  },
  {
   "cell_type": "code",
   "execution_count": 36,
   "metadata": {},
   "outputs": [
    {
     "name": "stdout",
     "output_type": "stream",
     "text": [
      "<class 'pandas.core.frame.DataFrame'>\n",
      "Int64Index: 2094 entries, 0 to 2355\n",
      "Data columns (total 22 columns):\n",
      "tweet_id              2094 non-null int64\n",
      "timestamp             2094 non-null object\n",
      "source                2094 non-null object\n",
      "text                  2094 non-null object\n",
      "expanded_urls         2094 non-null object\n",
      "rating_numerator      2094 non-null int64\n",
      "rating_denominator    2094 non-null int64\n",
      "name                  2094 non-null object\n",
      "retweet_count         2094 non-null int64\n",
      "favorite_count        2094 non-null int64\n",
      "jpg_url               1971 non-null object\n",
      "img_num               1971 non-null float64\n",
      "p1                    1971 non-null object\n",
      "p1_conf               1971 non-null float64\n",
      "p1_dog                1971 non-null object\n",
      "p2                    1971 non-null object\n",
      "p2_conf               1971 non-null float64\n",
      "p2_dog                1971 non-null object\n",
      "p3                    1971 non-null object\n",
      "p3_conf               1971 non-null float64\n",
      "p3_dog                1971 non-null object\n",
      "stage                 2094 non-null object\n",
      "dtypes: float64(4), int64(5), object(13)\n",
      "memory usage: 376.3+ KB\n"
     ]
    }
   ],
   "source": [
    "df_combined.info()"
   ]
  },
  {
   "cell_type": "markdown",
   "metadata": {},
   "source": [
    "### Tidiness Issue #3 : text column contain text and urls"
   ]
  },
  {
   "cell_type": "markdown",
   "metadata": {},
   "source": [
    "#### using replace method select the url characters and replace them with \"\""
   ]
  },
  {
   "cell_type": "markdown",
   "metadata": {},
   "source": [
    "Code"
   ]
  },
  {
   "cell_type": "code",
   "execution_count": 37,
   "metadata": {},
   "outputs": [],
   "source": [
    "df_combined[\"text\"] = df_combined[\"text\"].str.replace(r'http\\S+', '')"
   ]
  },
  {
   "cell_type": "markdown",
   "metadata": {},
   "source": [
    "Test "
   ]
  },
  {
   "cell_type": "code",
   "execution_count": 38,
   "metadata": {
    "scrolled": true
   },
   "outputs": [
    {
     "data": {
      "text/plain": [
       "'This is Bella. She hopes her smile made you smile. If not, she is also offering you her favorite monkey. 13.5/10 '"
      ]
     },
     "execution_count": 38,
     "metadata": {},
     "output_type": "execute_result"
    }
   ],
   "source": [
    "df_combined.text[45]"
   ]
  },
  {
   "cell_type": "markdown",
   "metadata": {},
   "source": [
    "### Issue #3 : tweet_id type are integer instead of string"
   ]
  },
  {
   "cell_type": "markdown",
   "metadata": {},
   "source": [
    "####  Change the datatype for  tweet_id variable from int to object in the two datasets\n"
   ]
  },
  {
   "cell_type": "markdown",
   "metadata": {},
   "source": [
    "#### Code "
   ]
  },
  {
   "cell_type": "code",
   "execution_count": 39,
   "metadata": {},
   "outputs": [],
   "source": [
    "df_combined[\"tweet_id\"] = df_combined[\"tweet_id\"].astype(str)\n"
   ]
  },
  {
   "cell_type": "markdown",
   "metadata": {},
   "source": [
    "#### Test"
   ]
  },
  {
   "cell_type": "code",
   "execution_count": 40,
   "metadata": {},
   "outputs": [
    {
     "data": {
      "text/plain": [
       "numpy.int64"
      ]
     },
     "execution_count": 40,
     "metadata": {},
     "output_type": "execute_result"
    }
   ],
   "source": [
    "type(df_merged[\"tweet_id\"][0])\n",
    "\n"
   ]
  },
  {
   "cell_type": "markdown",
   "metadata": {},
   "source": [
    "### issue #4 :  timestamp column in df_1 is not in datetime type"
   ]
  },
  {
   "cell_type": "markdown",
   "metadata": {},
   "source": [
    "#### Define : Change timestamp datatype in tweets dataframe from object to datatime type"
   ]
  },
  {
   "cell_type": "markdown",
   "metadata": {},
   "source": [
    "#### Code"
   ]
  },
  {
   "cell_type": "code",
   "execution_count": 41,
   "metadata": {},
   "outputs": [],
   "source": [
    "df_combined[\"timestamp\"] = pd.to_datetime(df_merged[\"timestamp\"])"
   ]
  },
  {
   "cell_type": "markdown",
   "metadata": {},
   "source": [
    "#### Test"
   ]
  },
  {
   "cell_type": "code",
   "execution_count": 42,
   "metadata": {},
   "outputs": [
    {
     "data": {
      "text/plain": [
       "pandas._libs.tslibs.timestamps.Timestamp"
      ]
     },
     "execution_count": 42,
     "metadata": {},
     "output_type": "execute_result"
    }
   ],
   "source": [
    "type(df_combined[\"timestamp\"][0])"
   ]
  },
  {
   "cell_type": "markdown",
   "metadata": {},
   "source": [
    "### Issue #5 : values  \"floofer\" in stage should be named \"floof\""
   ]
  },
  {
   "cell_type": "markdown",
   "metadata": {},
   "source": [
    "#### Use the rename method to rename the column"
   ]
  },
  {
   "cell_type": "markdown",
   "metadata": {},
   "source": [
    "Code\n"
   ]
  },
  {
   "cell_type": "code",
   "execution_count": 43,
   "metadata": {},
   "outputs": [],
   "source": [
    "df_combined[\"stage\"] = df_combined[\"stage\"].str.replace(\"floofer\", \"floof\")"
   ]
  },
  {
   "cell_type": "markdown",
   "metadata": {},
   "source": [
    "Test"
   ]
  },
  {
   "cell_type": "code",
   "execution_count": 44,
   "metadata": {},
   "outputs": [
    {
     "data": {
      "text/html": [
       "<div>\n",
       "<style scoped>\n",
       "    .dataframe tbody tr th:only-of-type {\n",
       "        vertical-align: middle;\n",
       "    }\n",
       "\n",
       "    .dataframe tbody tr th {\n",
       "        vertical-align: top;\n",
       "    }\n",
       "\n",
       "    .dataframe thead th {\n",
       "        text-align: right;\n",
       "    }\n",
       "</style>\n",
       "<table border=\"1\" class=\"dataframe\">\n",
       "  <thead>\n",
       "    <tr style=\"text-align: right;\">\n",
       "      <th></th>\n",
       "      <th>tweet_id</th>\n",
       "      <th>timestamp</th>\n",
       "      <th>source</th>\n",
       "      <th>text</th>\n",
       "      <th>expanded_urls</th>\n",
       "      <th>rating_numerator</th>\n",
       "      <th>rating_denominator</th>\n",
       "      <th>name</th>\n",
       "      <th>retweet_count</th>\n",
       "      <th>favorite_count</th>\n",
       "      <th>...</th>\n",
       "      <th>p1</th>\n",
       "      <th>p1_conf</th>\n",
       "      <th>p1_dog</th>\n",
       "      <th>p2</th>\n",
       "      <th>p2_conf</th>\n",
       "      <th>p2_dog</th>\n",
       "      <th>p3</th>\n",
       "      <th>p3_conf</th>\n",
       "      <th>p3_dog</th>\n",
       "      <th>stage</th>\n",
       "    </tr>\n",
       "  </thead>\n",
       "  <tbody>\n",
       "  </tbody>\n",
       "</table>\n",
       "<p>0 rows × 22 columns</p>\n",
       "</div>"
      ],
      "text/plain": [
       "Empty DataFrame\n",
       "Columns: [tweet_id, timestamp, source, text, expanded_urls, rating_numerator, rating_denominator, name, retweet_count, favorite_count, jpg_url, img_num, p1, p1_conf, p1_dog, p2, p2_conf, p2_dog, p3, p3_conf, p3_dog, stage]\n",
       "Index: []\n",
       "\n",
       "[0 rows x 22 columns]"
      ]
     },
     "execution_count": 44,
     "metadata": {},
     "output_type": "execute_result"
    }
   ],
   "source": [
    "df_combined[df_combined[\"stage\"] == \"floofer\"]"
   ]
  },
  {
   "cell_type": "markdown",
   "metadata": {},
   "source": [
    "### issue #6 : rating denominator has values other than 10"
   ]
  },
  {
   "cell_type": "markdown",
   "metadata": {},
   "source": [
    "#### Replace all values with 10 "
   ]
  },
  {
   "cell_type": "markdown",
   "metadata": {},
   "source": [
    "Code : "
   ]
  },
  {
   "cell_type": "code",
   "execution_count": 45,
   "metadata": {},
   "outputs": [],
   "source": [
    "df_combined[\"rating_denominator\"] = 10"
   ]
  },
  {
   "cell_type": "markdown",
   "metadata": {},
   "source": [
    "Test"
   ]
  },
  {
   "cell_type": "code",
   "execution_count": 46,
   "metadata": {},
   "outputs": [
    {
     "data": {
      "text/plain": [
       "array([10])"
      ]
     },
     "execution_count": 46,
     "metadata": {},
     "output_type": "execute_result"
    }
   ],
   "source": [
    "df_combined[\"rating_denominator\"].unique()"
   ]
  },
  {
   "cell_type": "markdown",
   "metadata": {},
   "source": [
    "### issue #7 : rating numerator has many invalid values"
   ]
  },
  {
   "cell_type": "markdown",
   "metadata": {},
   "source": [
    "#### \"text\" value contains rating\n",
    "#### so we will try to take rating from text"
   ]
  },
  {
   "cell_type": "markdown",
   "metadata": {},
   "source": [
    "code"
   ]
  },
  {
   "cell_type": "code",
   "execution_count": 47,
   "metadata": {
    "scrolled": true
   },
   "outputs": [],
   "source": [
    "rating_df = df_combined.text.str.extract(r\"(\\d+\\d*\\/\\d+)\")\n",
    "rating_df.rename(columns = {0 : \"rating\"}, inplace = True)"
   ]
  },
  {
   "cell_type": "code",
   "execution_count": 48,
   "metadata": {
    "scrolled": true
   },
   "outputs": [],
   "source": [
    "rating_df[\"rating\"] = rating_df[\"rating\"].str[:-3]"
   ]
  },
  {
   "cell_type": "code",
   "execution_count": 49,
   "metadata": {},
   "outputs": [],
   "source": [
    "df_combined[\"rating_numerator\"].replace(rating_df[\"rating\"], inplace = True)"
   ]
  },
  {
   "cell_type": "markdown",
   "metadata": {},
   "source": [
    "Test"
   ]
  },
  {
   "cell_type": "code",
   "execution_count": 50,
   "metadata": {
    "scrolled": true
   },
   "outputs": [
    {
     "data": {
      "text/plain": [
       "13     1620\n",
       "12      316\n",
       "14      153\n",
       "11        1\n",
       "204       1\n",
       "165       1\n",
       "420       1\n",
       "5         1\n",
       "Name: rating_numerator, dtype: int64"
      ]
     },
     "execution_count": 50,
     "metadata": {},
     "output_type": "execute_result"
    }
   ],
   "source": [
    "df_combined[\"rating_numerator\"].value_counts()"
   ]
  },
  {
   "cell_type": "markdown",
   "metadata": {},
   "source": [
    "stil, after fixing almost all the numerators we have some numbers that we can't consider as a rating \n",
    "\n",
    "Two new quality issues : \n",
    "\n",
    ". [165, 204, 5,] 4420 are invalid ratings \n",
    "\n",
    ". change datatype from string to integer "
   ]
  },
  {
   "cell_type": "markdown",
   "metadata": {},
   "source": [
    "### issue #8 : [165, 204, 5,420] are invalid ratings"
   ]
  },
  {
   "cell_type": "markdown",
   "metadata": {},
   "source": [
    "#### replace invalid ratings with np.nan then drop rows that has any null value"
   ]
  },
  {
   "cell_type": "markdown",
   "metadata": {},
   "source": [
    "Code"
   ]
  },
  {
   "cell_type": "code",
   "execution_count": 51,
   "metadata": {},
   "outputs": [],
   "source": [
    "invalid_ratings = [165, 204, 5,420] \n",
    "df_combined[\"rating_numerator\"].replace(to_replace = invalid_ratings, value = np.nan, inplace =True)\n",
    "df_combined.dropna(axis = 0 , how = \"any\", inplace = True)\n",
    "     \n",
    "        \n",
    "    "
   ]
  },
  {
   "cell_type": "code",
   "execution_count": 52,
   "metadata": {
    "scrolled": true
   },
   "outputs": [
    {
     "name": "stdout",
     "output_type": "stream",
     "text": [
      "<class 'pandas.core.frame.DataFrame'>\n",
      "Int64Index: 1968 entries, 0 to 2355\n",
      "Data columns (total 22 columns):\n",
      "tweet_id              1968 non-null object\n",
      "timestamp             1968 non-null datetime64[ns]\n",
      "source                1968 non-null object\n",
      "text                  1968 non-null object\n",
      "expanded_urls         1968 non-null object\n",
      "rating_numerator      1968 non-null object\n",
      "rating_denominator    1968 non-null int64\n",
      "name                  1968 non-null object\n",
      "retweet_count         1968 non-null int64\n",
      "favorite_count        1968 non-null int64\n",
      "jpg_url               1968 non-null object\n",
      "img_num               1968 non-null float64\n",
      "p1                    1968 non-null object\n",
      "p1_conf               1968 non-null float64\n",
      "p1_dog                1968 non-null object\n",
      "p2                    1968 non-null object\n",
      "p2_conf               1968 non-null float64\n",
      "p2_dog                1968 non-null object\n",
      "p3                    1968 non-null object\n",
      "p3_conf               1968 non-null float64\n",
      "p3_dog                1968 non-null object\n",
      "stage                 1968 non-null object\n",
      "dtypes: datetime64[ns](1), float64(4), int64(3), object(14)\n",
      "memory usage: 353.6+ KB\n"
     ]
    }
   ],
   "source": [
    "df_combined.info()"
   ]
  },
  {
   "cell_type": "markdown",
   "metadata": {},
   "source": [
    "### issue #9 : change numerator_rating data type to integer"
   ]
  },
  {
   "cell_type": "markdown",
   "metadata": {},
   "source": [
    "#### Use the astype to change the datatype to integer"
   ]
  },
  {
   "cell_type": "markdown",
   "metadata": {},
   "source": [
    "Code"
   ]
  },
  {
   "cell_type": "code",
   "execution_count": 53,
   "metadata": {},
   "outputs": [],
   "source": [
    "df_combined[\"rating_numerator\"] = df_combined[\"rating_numerator\"].astype(float)"
   ]
  },
  {
   "cell_type": "markdown",
   "metadata": {},
   "source": [
    "Test"
   ]
  },
  {
   "cell_type": "code",
   "execution_count": 54,
   "metadata": {},
   "outputs": [
    {
     "data": {
      "text/plain": [
       "numpy.float64"
      ]
     },
     "execution_count": 54,
     "metadata": {},
     "output_type": "execute_result"
    }
   ],
   "source": [
    "type(df_combined[\"rating_numerator\"][0])"
   ]
  },
  {
   "cell_type": "markdown",
   "metadata": {},
   "source": [
    "### issue #10 dog breeds in p1, p2, p3 has some uppercase"
   ]
  },
  {
   "cell_type": "markdown",
   "metadata": {},
   "source": [
    "#### Use the str.lower to p1, p2, p3"
   ]
  },
  {
   "cell_type": "markdown",
   "metadata": {},
   "source": [
    "Code"
   ]
  },
  {
   "cell_type": "code",
   "execution_count": 55,
   "metadata": {},
   "outputs": [],
   "source": [
    "df_prediction['p1'] = df_prediction['p1'].str.lower()\n",
    "df_prediction['p2'] = df_prediction['p2'].str.lower()\n",
    "df_prediction['p3'] = df_prediction['p3'].str.lower()"
   ]
  },
  {
   "cell_type": "code",
   "execution_count": 56,
   "metadata": {
    "scrolled": true
   },
   "outputs": [
    {
     "data": {
      "text/html": [
       "<div>\n",
       "<style scoped>\n",
       "    .dataframe tbody tr th:only-of-type {\n",
       "        vertical-align: middle;\n",
       "    }\n",
       "\n",
       "    .dataframe tbody tr th {\n",
       "        vertical-align: top;\n",
       "    }\n",
       "\n",
       "    .dataframe thead th {\n",
       "        text-align: right;\n",
       "    }\n",
       "</style>\n",
       "<table border=\"1\" class=\"dataframe\">\n",
       "  <thead>\n",
       "    <tr style=\"text-align: right;\">\n",
       "      <th></th>\n",
       "      <th>tweet_id</th>\n",
       "      <th>jpg_url</th>\n",
       "      <th>img_num</th>\n",
       "      <th>p1</th>\n",
       "      <th>p1_conf</th>\n",
       "      <th>p1_dog</th>\n",
       "      <th>p2</th>\n",
       "      <th>p2_conf</th>\n",
       "      <th>p2_dog</th>\n",
       "      <th>p3</th>\n",
       "      <th>p3_conf</th>\n",
       "      <th>p3_dog</th>\n",
       "    </tr>\n",
       "  </thead>\n",
       "  <tbody>\n",
       "    <tr>\n",
       "      <th>1033</th>\n",
       "      <td>711694788429553666</td>\n",
       "      <td>https://pbs.twimg.com/tweet_video_thumb/CeBym7...</td>\n",
       "      <td>1</td>\n",
       "      <td>brown_bear</td>\n",
       "      <td>0.713293</td>\n",
       "      <td>False</td>\n",
       "      <td>indian_elephant</td>\n",
       "      <td>0.172844</td>\n",
       "      <td>False</td>\n",
       "      <td>water_buffalo</td>\n",
       "      <td>0.038902</td>\n",
       "      <td>False</td>\n",
       "    </tr>\n",
       "    <tr>\n",
       "      <th>1910</th>\n",
       "      <td>853299958564483072</td>\n",
       "      <td>https://pbs.twimg.com/media/C9eHyF7XgAAOxPM.jpg</td>\n",
       "      <td>1</td>\n",
       "      <td>grille</td>\n",
       "      <td>0.652280</td>\n",
       "      <td>False</td>\n",
       "      <td>beach_wagon</td>\n",
       "      <td>0.112846</td>\n",
       "      <td>False</td>\n",
       "      <td>convertible</td>\n",
       "      <td>0.086252</td>\n",
       "      <td>False</td>\n",
       "    </tr>\n",
       "    <tr>\n",
       "      <th>921</th>\n",
       "      <td>701981390485725185</td>\n",
       "      <td>https://pbs.twimg.com/media/Cb3wWWbWEAAy06k.jpg</td>\n",
       "      <td>1</td>\n",
       "      <td>pomeranian</td>\n",
       "      <td>0.491022</td>\n",
       "      <td>True</td>\n",
       "      <td>weasel</td>\n",
       "      <td>0.130879</td>\n",
       "      <td>False</td>\n",
       "      <td>yorkshire_terrier</td>\n",
       "      <td>0.099241</td>\n",
       "      <td>True</td>\n",
       "    </tr>\n",
       "    <tr>\n",
       "      <th>43</th>\n",
       "      <td>666776908487630848</td>\n",
       "      <td>https://pbs.twimg.com/media/CUDeDoWUYAAD-EM.jpg</td>\n",
       "      <td>1</td>\n",
       "      <td>seat_belt</td>\n",
       "      <td>0.375057</td>\n",
       "      <td>False</td>\n",
       "      <td>miniature_pinscher</td>\n",
       "      <td>0.167175</td>\n",
       "      <td>True</td>\n",
       "      <td>chihuahua</td>\n",
       "      <td>0.086951</td>\n",
       "      <td>True</td>\n",
       "    </tr>\n",
       "    <tr>\n",
       "      <th>481</th>\n",
       "      <td>675362609739206656</td>\n",
       "      <td>https://pbs.twimg.com/media/CV9etctWUAAl5Hp.jpg</td>\n",
       "      <td>1</td>\n",
       "      <td>labrador_retriever</td>\n",
       "      <td>0.479008</td>\n",
       "      <td>True</td>\n",
       "      <td>ice_bear</td>\n",
       "      <td>0.218289</td>\n",
       "      <td>False</td>\n",
       "      <td>kuvasz</td>\n",
       "      <td>0.139911</td>\n",
       "      <td>True</td>\n",
       "    </tr>\n",
       "    <tr>\n",
       "      <th>1110</th>\n",
       "      <td>724004602748780546</td>\n",
       "      <td>https://pbs.twimg.com/media/CgwuWCeW4AAsgbD.jpg</td>\n",
       "      <td>3</td>\n",
       "      <td>siamese_cat</td>\n",
       "      <td>0.950526</td>\n",
       "      <td>False</td>\n",
       "      <td>pug</td>\n",
       "      <td>0.018877</td>\n",
       "      <td>True</td>\n",
       "      <td>quilt</td>\n",
       "      <td>0.007628</td>\n",
       "      <td>False</td>\n",
       "    </tr>\n",
       "    <tr>\n",
       "      <th>1701</th>\n",
       "      <td>817120970343411712</td>\n",
       "      <td>https://pbs.twimg.com/media/C1b_LSYUsAAJ494.jpg</td>\n",
       "      <td>1</td>\n",
       "      <td>saluki</td>\n",
       "      <td>0.568809</td>\n",
       "      <td>True</td>\n",
       "      <td>afghan_hound</td>\n",
       "      <td>0.229352</td>\n",
       "      <td>True</td>\n",
       "      <td>golden_retriever</td>\n",
       "      <td>0.157130</td>\n",
       "      <td>True</td>\n",
       "    </tr>\n",
       "    <tr>\n",
       "      <th>1767</th>\n",
       "      <td>826958653328592898</td>\n",
       "      <td>https://pbs.twimg.com/media/C3nygbBWQAAjwcW.jpg</td>\n",
       "      <td>1</td>\n",
       "      <td>golden_retriever</td>\n",
       "      <td>0.617389</td>\n",
       "      <td>True</td>\n",
       "      <td>labrador_retriever</td>\n",
       "      <td>0.337053</td>\n",
       "      <td>True</td>\n",
       "      <td>tennis_ball</td>\n",
       "      <td>0.008554</td>\n",
       "      <td>False</td>\n",
       "    </tr>\n",
       "    <tr>\n",
       "      <th>1576</th>\n",
       "      <td>796080075804475393</td>\n",
       "      <td>https://pbs.twimg.com/media/Cww-msrXcAAxm3K.jpg</td>\n",
       "      <td>1</td>\n",
       "      <td>chow</td>\n",
       "      <td>0.973846</td>\n",
       "      <td>True</td>\n",
       "      <td>tibetan_mastiff</td>\n",
       "      <td>0.014110</td>\n",
       "      <td>True</td>\n",
       "      <td>gibbon</td>\n",
       "      <td>0.002358</td>\n",
       "      <td>False</td>\n",
       "    </tr>\n",
       "    <tr>\n",
       "      <th>406</th>\n",
       "      <td>673708611235921920</td>\n",
       "      <td>https://pbs.twimg.com/media/CVl-Z0dWcAAs7wr.jpg</td>\n",
       "      <td>1</td>\n",
       "      <td>golden_retriever</td>\n",
       "      <td>0.936333</td>\n",
       "      <td>True</td>\n",
       "      <td>cocker_spaniel</td>\n",
       "      <td>0.024211</td>\n",
       "      <td>True</td>\n",
       "      <td>labrador_retriever</td>\n",
       "      <td>0.009435</td>\n",
       "      <td>True</td>\n",
       "    </tr>\n",
       "  </tbody>\n",
       "</table>\n",
       "</div>"
      ],
      "text/plain": [
       "                tweet_id                                            jpg_url  \\\n",
       "1033  711694788429553666  https://pbs.twimg.com/tweet_video_thumb/CeBym7...   \n",
       "1910  853299958564483072    https://pbs.twimg.com/media/C9eHyF7XgAAOxPM.jpg   \n",
       "921   701981390485725185    https://pbs.twimg.com/media/Cb3wWWbWEAAy06k.jpg   \n",
       "43    666776908487630848    https://pbs.twimg.com/media/CUDeDoWUYAAD-EM.jpg   \n",
       "481   675362609739206656    https://pbs.twimg.com/media/CV9etctWUAAl5Hp.jpg   \n",
       "1110  724004602748780546    https://pbs.twimg.com/media/CgwuWCeW4AAsgbD.jpg   \n",
       "1701  817120970343411712    https://pbs.twimg.com/media/C1b_LSYUsAAJ494.jpg   \n",
       "1767  826958653328592898    https://pbs.twimg.com/media/C3nygbBWQAAjwcW.jpg   \n",
       "1576  796080075804475393    https://pbs.twimg.com/media/Cww-msrXcAAxm3K.jpg   \n",
       "406   673708611235921920    https://pbs.twimg.com/media/CVl-Z0dWcAAs7wr.jpg   \n",
       "\n",
       "      img_num                  p1   p1_conf  p1_dog                  p2  \\\n",
       "1033        1          brown_bear  0.713293   False     indian_elephant   \n",
       "1910        1              grille  0.652280   False         beach_wagon   \n",
       "921         1          pomeranian  0.491022    True              weasel   \n",
       "43          1           seat_belt  0.375057   False  miniature_pinscher   \n",
       "481         1  labrador_retriever  0.479008    True            ice_bear   \n",
       "1110        3         siamese_cat  0.950526   False                 pug   \n",
       "1701        1              saluki  0.568809    True        afghan_hound   \n",
       "1767        1    golden_retriever  0.617389    True  labrador_retriever   \n",
       "1576        1                chow  0.973846    True     tibetan_mastiff   \n",
       "406         1    golden_retriever  0.936333    True      cocker_spaniel   \n",
       "\n",
       "       p2_conf  p2_dog                  p3   p3_conf  p3_dog  \n",
       "1033  0.172844   False       water_buffalo  0.038902   False  \n",
       "1910  0.112846   False         convertible  0.086252   False  \n",
       "921   0.130879   False   yorkshire_terrier  0.099241    True  \n",
       "43    0.167175    True           chihuahua  0.086951    True  \n",
       "481   0.218289   False              kuvasz  0.139911    True  \n",
       "1110  0.018877    True               quilt  0.007628   False  \n",
       "1701  0.229352    True    golden_retriever  0.157130    True  \n",
       "1767  0.337053    True         tennis_ball  0.008554   False  \n",
       "1576  0.014110    True              gibbon  0.002358   False  \n",
       "406   0.024211    True  labrador_retriever  0.009435    True  "
      ]
     },
     "execution_count": 56,
     "metadata": {},
     "output_type": "execute_result"
    }
   ],
   "source": [
    "df_prediction.sample(10)"
   ]
  },
  {
   "cell_type": "markdown",
   "metadata": {},
   "source": [
    "### issue #11 : column name with \"p\" in df_prediction are not understandable"
   ]
  },
  {
   "cell_type": "markdown",
   "metadata": {},
   "source": [
    "#### use lambda function to change any \"p\" characters to \"prediction\""
   ]
  },
  {
   "cell_type": "markdown",
   "metadata": {},
   "source": [
    "Code : "
   ]
  },
  {
   "cell_type": "code",
   "execution_count": 57,
   "metadata": {},
   "outputs": [],
   "source": [
    "df_combined = df_combined.rename(columns= lambda x: x.replace(\"p\", \"prediction\"))\n"
   ]
  },
  {
   "cell_type": "code",
   "execution_count": 58,
   "metadata": {},
   "outputs": [],
   "source": [
    "df_combined = df_combined.rename(columns = {\"jpredictiong_url\": \"jpg_url\"})"
   ]
  },
  {
   "cell_type": "markdown",
   "metadata": {
    "scrolled": false
   },
   "source": [
    "Test : "
   ]
  },
  {
   "cell_type": "code",
   "execution_count": 59,
   "metadata": {},
   "outputs": [
    {
     "data": {
      "text/plain": [
       "Index(['tweet_id', 'timestamprediction', 'source', 'text',\n",
       "       'expredictionanded_urls', 'rating_numerator', 'rating_denominator',\n",
       "       'name', 'retweet_count', 'favorite_count', 'jpg_url', 'img_num',\n",
       "       'prediction1', 'prediction1_conf', 'prediction1_dog', 'prediction2',\n",
       "       'prediction2_conf', 'prediction2_dog', 'prediction3',\n",
       "       'prediction3_conf', 'prediction3_dog', 'stage'],\n",
       "      dtype='object')"
      ]
     },
     "execution_count": 59,
     "metadata": {},
     "output_type": "execute_result"
    }
   ],
   "source": [
    "df_combined.columns"
   ]
  },
  {
   "cell_type": "markdown",
   "metadata": {},
   "source": [
    "### issue #12 : some tweets don't have image and prediction data"
   ]
  },
  {
   "cell_type": "markdown",
   "metadata": {},
   "source": [
    "#### Drop tweets that don't have image and prediction data"
   ]
  },
  {
   "cell_type": "markdown",
   "metadata": {},
   "source": [
    "Code :\n"
   ]
  },
  {
   "cell_type": "code",
   "execution_count": 60,
   "metadata": {},
   "outputs": [],
   "source": [
    "df_combined.dropna(axis = 0, how = \"any\", inplace = True)"
   ]
  },
  {
   "cell_type": "markdown",
   "metadata": {},
   "source": [
    "Test : "
   ]
  },
  {
   "cell_type": "code",
   "execution_count": 61,
   "metadata": {},
   "outputs": [
    {
     "name": "stdout",
     "output_type": "stream",
     "text": [
      "<class 'pandas.core.frame.DataFrame'>\n",
      "Int64Index: 1968 entries, 0 to 2355\n",
      "Data columns (total 22 columns):\n",
      "tweet_id                  1968 non-null object\n",
      "timestamprediction        1968 non-null datetime64[ns]\n",
      "source                    1968 non-null object\n",
      "text                      1968 non-null object\n",
      "expredictionanded_urls    1968 non-null object\n",
      "rating_numerator          1968 non-null float64\n",
      "rating_denominator        1968 non-null int64\n",
      "name                      1968 non-null object\n",
      "retweet_count             1968 non-null int64\n",
      "favorite_count            1968 non-null int64\n",
      "jpg_url                   1968 non-null object\n",
      "img_num                   1968 non-null float64\n",
      "prediction1               1968 non-null object\n",
      "prediction1_conf          1968 non-null float64\n",
      "prediction1_dog           1968 non-null object\n",
      "prediction2               1968 non-null object\n",
      "prediction2_conf          1968 non-null float64\n",
      "prediction2_dog           1968 non-null object\n",
      "prediction3               1968 non-null object\n",
      "prediction3_conf          1968 non-null float64\n",
      "prediction3_dog           1968 non-null object\n",
      "stage                     1968 non-null object\n",
      "dtypes: datetime64[ns](1), float64(5), int64(3), object(13)\n",
      "memory usage: 353.6+ KB\n"
     ]
    }
   ],
   "source": [
    "df_combined.info()"
   ]
  },
  {
   "cell_type": "markdown",
   "metadata": {},
   "source": [
    "## Storing Data\n",
    "Save gathered, assessed, and cleaned master dataset to a CSV file named \"twitter_archive_master.csv\"."
   ]
  },
  {
   "cell_type": "code",
   "execution_count": 62,
   "metadata": {},
   "outputs": [],
   "source": [
    "df_combined.to_csv(\"twitter_archive_master.csv\", index=False)"
   ]
  },
  {
   "cell_type": "markdown",
   "metadata": {},
   "source": [
    "## Analyzing and Visualizing Data\n",
    "In this section, analyze and visualize your wrangled data. You must produce at least **three (3) insights and one (1) visualization.**"
   ]
  },
  {
   "cell_type": "code",
   "execution_count": 63,
   "metadata": {
    "scrolled": true
   },
   "outputs": [
    {
     "data": {
      "text/html": [
       "<div>\n",
       "<style scoped>\n",
       "    .dataframe tbody tr th:only-of-type {\n",
       "        vertical-align: middle;\n",
       "    }\n",
       "\n",
       "    .dataframe tbody tr th {\n",
       "        vertical-align: top;\n",
       "    }\n",
       "\n",
       "    .dataframe thead th {\n",
       "        text-align: right;\n",
       "    }\n",
       "</style>\n",
       "<table border=\"1\" class=\"dataframe\">\n",
       "  <thead>\n",
       "    <tr style=\"text-align: right;\">\n",
       "      <th></th>\n",
       "      <th>tweet_id</th>\n",
       "      <th>timestamprediction</th>\n",
       "      <th>source</th>\n",
       "      <th>text</th>\n",
       "      <th>expredictionanded_urls</th>\n",
       "      <th>rating_numerator</th>\n",
       "      <th>rating_denominator</th>\n",
       "      <th>name</th>\n",
       "      <th>retweet_count</th>\n",
       "      <th>favorite_count</th>\n",
       "      <th>...</th>\n",
       "      <th>prediction1</th>\n",
       "      <th>prediction1_conf</th>\n",
       "      <th>prediction1_dog</th>\n",
       "      <th>prediction2</th>\n",
       "      <th>prediction2_conf</th>\n",
       "      <th>prediction2_dog</th>\n",
       "      <th>prediction3</th>\n",
       "      <th>prediction3_conf</th>\n",
       "      <th>prediction3_dog</th>\n",
       "      <th>stage</th>\n",
       "    </tr>\n",
       "  </thead>\n",
       "  <tbody>\n",
       "    <tr>\n",
       "      <th>2252</th>\n",
       "      <td>667801013445750784</td>\n",
       "      <td>2015-11-20 20:25:43</td>\n",
       "      <td>&lt;a href=\"http://twitter.com/download/iphone\" r...</td>\n",
       "      <td>OMIGOD 12/10</td>\n",
       "      <td>https://twitter.com/dog_rates/status/667801013...</td>\n",
       "      <td>13.0</td>\n",
       "      <td>10</td>\n",
       "      <td>None</td>\n",
       "      <td>101</td>\n",
       "      <td>346</td>\n",
       "      <td>...</td>\n",
       "      <td>flat-coated_retriever</td>\n",
       "      <td>0.508392</td>\n",
       "      <td>True</td>\n",
       "      <td>Chesapeake_Bay_retriever</td>\n",
       "      <td>0.262239</td>\n",
       "      <td>True</td>\n",
       "      <td>curly-coated_retriever</td>\n",
       "      <td>0.048920</td>\n",
       "      <td>True</td>\n",
       "      <td></td>\n",
       "    </tr>\n",
       "    <tr>\n",
       "      <th>1749</th>\n",
       "      <td>679047485189439488</td>\n",
       "      <td>2015-12-21 21:15:11</td>\n",
       "      <td>&lt;a href=\"http://twitter.com/download/iphone\" r...</td>\n",
       "      <td>This dog doesn't know how to stairs. Quite tra...</td>\n",
       "      <td>https://twitter.com/dog_rates/status/679047485...</td>\n",
       "      <td>14.0</td>\n",
       "      <td>10</td>\n",
       "      <td>None</td>\n",
       "      <td>781</td>\n",
       "      <td>2460</td>\n",
       "      <td>...</td>\n",
       "      <td>panpipe</td>\n",
       "      <td>0.962572</td>\n",
       "      <td>False</td>\n",
       "      <td>bannister</td>\n",
       "      <td>0.025248</td>\n",
       "      <td>False</td>\n",
       "      <td>golden_retriever</td>\n",
       "      <td>0.002930</td>\n",
       "      <td>True</td>\n",
       "      <td></td>\n",
       "    </tr>\n",
       "    <tr>\n",
       "      <th>1873</th>\n",
       "      <td>675145476954566656</td>\n",
       "      <td>2015-12-11 02:49:59</td>\n",
       "      <td>&lt;a href=\"http://twitter.com/download/iphone\" r...</td>\n",
       "      <td>What an honor. 3 dogs here. Blond one is clear...</td>\n",
       "      <td>https://twitter.com/dog_rates/status/675145476...</td>\n",
       "      <td>14.0</td>\n",
       "      <td>10</td>\n",
       "      <td>None</td>\n",
       "      <td>1011</td>\n",
       "      <td>2305</td>\n",
       "      <td>...</td>\n",
       "      <td>Labrador_retriever</td>\n",
       "      <td>0.458746</td>\n",
       "      <td>True</td>\n",
       "      <td>Great_Dane</td>\n",
       "      <td>0.235504</td>\n",
       "      <td>True</td>\n",
       "      <td>Staffordshire_bullterrier</td>\n",
       "      <td>0.116864</td>\n",
       "      <td>True</td>\n",
       "      <td></td>\n",
       "    </tr>\n",
       "    <tr>\n",
       "      <th>2033</th>\n",
       "      <td>671744970634719232</td>\n",
       "      <td>2015-12-01 17:37:36</td>\n",
       "      <td>&lt;a href=\"http://twitter.com/download/iphone\" r...</td>\n",
       "      <td>Very fit horned dog here. Looks powerful. Not ...</td>\n",
       "      <td>https://twitter.com/dog_rates/status/671744970...</td>\n",
       "      <td>13.0</td>\n",
       "      <td>10</td>\n",
       "      <td>None</td>\n",
       "      <td>841</td>\n",
       "      <td>1430</td>\n",
       "      <td>...</td>\n",
       "      <td>ice_bear</td>\n",
       "      <td>0.251193</td>\n",
       "      <td>False</td>\n",
       "      <td>ram</td>\n",
       "      <td>0.213839</td>\n",
       "      <td>False</td>\n",
       "      <td>Arctic_fox</td>\n",
       "      <td>0.081551</td>\n",
       "      <td>False</td>\n",
       "      <td></td>\n",
       "    </tr>\n",
       "    <tr>\n",
       "      <th>2246</th>\n",
       "      <td>667878741721415682</td>\n",
       "      <td>2015-11-21 01:34:35</td>\n",
       "      <td>&lt;a href=\"http://twitter.com/download/iphone\" r...</td>\n",
       "      <td>This is Tedrick. He lives on the edge. Needs s...</td>\n",
       "      <td>https://twitter.com/dog_rates/status/667878741...</td>\n",
       "      <td>12.0</td>\n",
       "      <td>10</td>\n",
       "      <td>Tedrick</td>\n",
       "      <td>127</td>\n",
       "      <td>409</td>\n",
       "      <td>...</td>\n",
       "      <td>seat_belt</td>\n",
       "      <td>0.200373</td>\n",
       "      <td>False</td>\n",
       "      <td>miniature_pinscher</td>\n",
       "      <td>0.106003</td>\n",
       "      <td>True</td>\n",
       "      <td>schipperke</td>\n",
       "      <td>0.104733</td>\n",
       "      <td>True</td>\n",
       "      <td></td>\n",
       "    </tr>\n",
       "    <tr>\n",
       "      <th>1261</th>\n",
       "      <td>710153181850935296</td>\n",
       "      <td>2016-03-16 17:18:07</td>\n",
       "      <td>&lt;a href=\"http://twitter.com/download/iphone\" r...</td>\n",
       "      <td>This is Lacy. She's tipping her hat to you. Da...</td>\n",
       "      <td>https://twitter.com/dog_rates/status/710153181...</td>\n",
       "      <td>13.0</td>\n",
       "      <td>10</td>\n",
       "      <td>Lacy</td>\n",
       "      <td>1006</td>\n",
       "      <td>3153</td>\n",
       "      <td>...</td>\n",
       "      <td>cowboy_hat</td>\n",
       "      <td>0.979053</td>\n",
       "      <td>False</td>\n",
       "      <td>sombrero</td>\n",
       "      <td>0.010682</td>\n",
       "      <td>False</td>\n",
       "      <td>cocker_spaniel</td>\n",
       "      <td>0.002713</td>\n",
       "      <td>True</td>\n",
       "      <td></td>\n",
       "    </tr>\n",
       "    <tr>\n",
       "      <th>1207</th>\n",
       "      <td>715733265223708672</td>\n",
       "      <td>2016-04-01 02:51:22</td>\n",
       "      <td>&lt;a href=\"http://twitter.com/download/iphone\" r...</td>\n",
       "      <td>This is a taco. We only rate dogs. Please only...</td>\n",
       "      <td>https://twitter.com/dog_rates/status/715733265...</td>\n",
       "      <td>13.0</td>\n",
       "      <td>10</td>\n",
       "      <td>a</td>\n",
       "      <td>1920</td>\n",
       "      <td>5093</td>\n",
       "      <td>...</td>\n",
       "      <td>Dandie_Dinmont</td>\n",
       "      <td>0.740229</td>\n",
       "      <td>True</td>\n",
       "      <td>miniature_poodle</td>\n",
       "      <td>0.081915</td>\n",
       "      <td>True</td>\n",
       "      <td>toy_poodle</td>\n",
       "      <td>0.063748</td>\n",
       "      <td>True</td>\n",
       "      <td></td>\n",
       "    </tr>\n",
       "    <tr>\n",
       "      <th>1234</th>\n",
       "      <td>712717840512598017</td>\n",
       "      <td>2016-03-23 19:09:09</td>\n",
       "      <td>&lt;a href=\"http://twitter.com/download/iphone\" r...</td>\n",
       "      <td>Please don't send in any more polar bears. We ...</td>\n",
       "      <td>https://twitter.com/dog_rates/status/712717840...</td>\n",
       "      <td>13.0</td>\n",
       "      <td>10</td>\n",
       "      <td>None</td>\n",
       "      <td>5616</td>\n",
       "      <td>13474</td>\n",
       "      <td>...</td>\n",
       "      <td>Great_Pyrenees</td>\n",
       "      <td>0.732043</td>\n",
       "      <td>True</td>\n",
       "      <td>kuvasz</td>\n",
       "      <td>0.121375</td>\n",
       "      <td>True</td>\n",
       "      <td>Irish_wolfhound</td>\n",
       "      <td>0.049524</td>\n",
       "      <td>True</td>\n",
       "      <td></td>\n",
       "    </tr>\n",
       "    <tr>\n",
       "      <th>1351</th>\n",
       "      <td>704054845121142784</td>\n",
       "      <td>2016-02-28 21:25:30</td>\n",
       "      <td>&lt;a href=\"http://twitter.com/download/iphone\" r...</td>\n",
       "      <td>Here is a whole flock of puppers.  60/50 I'll ...</td>\n",
       "      <td>https://twitter.com/dog_rates/status/704054845...</td>\n",
       "      <td>12.0</td>\n",
       "      <td>10</td>\n",
       "      <td>a</td>\n",
       "      <td>1028</td>\n",
       "      <td>3201</td>\n",
       "      <td>...</td>\n",
       "      <td>Great_Pyrenees</td>\n",
       "      <td>0.667939</td>\n",
       "      <td>True</td>\n",
       "      <td>kuvasz</td>\n",
       "      <td>0.228764</td>\n",
       "      <td>True</td>\n",
       "      <td>golden_retriever</td>\n",
       "      <td>0.043885</td>\n",
       "      <td>True</td>\n",
       "      <td></td>\n",
       "    </tr>\n",
       "    <tr>\n",
       "      <th>507</th>\n",
       "      <td>812709060537683968</td>\n",
       "      <td>2016-12-24 17:18:34</td>\n",
       "      <td>&lt;a href=\"http://twitter.com/download/iphone\" r...</td>\n",
       "      <td>This is Brandi and Harley. They are practicing...</td>\n",
       "      <td>https://twitter.com/dog_rates/status/812709060...</td>\n",
       "      <td>13.0</td>\n",
       "      <td>10</td>\n",
       "      <td>Brandi</td>\n",
       "      <td>1665</td>\n",
       "      <td>7373</td>\n",
       "      <td>...</td>\n",
       "      <td>Irish_setter</td>\n",
       "      <td>0.326873</td>\n",
       "      <td>True</td>\n",
       "      <td>golden_retriever</td>\n",
       "      <td>0.182610</td>\n",
       "      <td>True</td>\n",
       "      <td>Leonberg</td>\n",
       "      <td>0.156912</td>\n",
       "      <td>True</td>\n",
       "      <td></td>\n",
       "    </tr>\n",
       "  </tbody>\n",
       "</table>\n",
       "<p>10 rows × 22 columns</p>\n",
       "</div>"
      ],
      "text/plain": [
       "                tweet_id  timestamprediction  \\\n",
       "2252  667801013445750784 2015-11-20 20:25:43   \n",
       "1749  679047485189439488 2015-12-21 21:15:11   \n",
       "1873  675145476954566656 2015-12-11 02:49:59   \n",
       "2033  671744970634719232 2015-12-01 17:37:36   \n",
       "2246  667878741721415682 2015-11-21 01:34:35   \n",
       "1261  710153181850935296 2016-03-16 17:18:07   \n",
       "1207  715733265223708672 2016-04-01 02:51:22   \n",
       "1234  712717840512598017 2016-03-23 19:09:09   \n",
       "1351  704054845121142784 2016-02-28 21:25:30   \n",
       "507   812709060537683968 2016-12-24 17:18:34   \n",
       "\n",
       "                                                 source  \\\n",
       "2252  <a href=\"http://twitter.com/download/iphone\" r...   \n",
       "1749  <a href=\"http://twitter.com/download/iphone\" r...   \n",
       "1873  <a href=\"http://twitter.com/download/iphone\" r...   \n",
       "2033  <a href=\"http://twitter.com/download/iphone\" r...   \n",
       "2246  <a href=\"http://twitter.com/download/iphone\" r...   \n",
       "1261  <a href=\"http://twitter.com/download/iphone\" r...   \n",
       "1207  <a href=\"http://twitter.com/download/iphone\" r...   \n",
       "1234  <a href=\"http://twitter.com/download/iphone\" r...   \n",
       "1351  <a href=\"http://twitter.com/download/iphone\" r...   \n",
       "507   <a href=\"http://twitter.com/download/iphone\" r...   \n",
       "\n",
       "                                                   text  \\\n",
       "2252                                      OMIGOD 12/10    \n",
       "1749  This dog doesn't know how to stairs. Quite tra...   \n",
       "1873  What an honor. 3 dogs here. Blond one is clear...   \n",
       "2033  Very fit horned dog here. Looks powerful. Not ...   \n",
       "2246  This is Tedrick. He lives on the edge. Needs s...   \n",
       "1261  This is Lacy. She's tipping her hat to you. Da...   \n",
       "1207  This is a taco. We only rate dogs. Please only...   \n",
       "1234  Please don't send in any more polar bears. We ...   \n",
       "1351  Here is a whole flock of puppers.  60/50 I'll ...   \n",
       "507   This is Brandi and Harley. They are practicing...   \n",
       "\n",
       "                                 expredictionanded_urls  rating_numerator  \\\n",
       "2252  https://twitter.com/dog_rates/status/667801013...              13.0   \n",
       "1749  https://twitter.com/dog_rates/status/679047485...              14.0   \n",
       "1873  https://twitter.com/dog_rates/status/675145476...              14.0   \n",
       "2033  https://twitter.com/dog_rates/status/671744970...              13.0   \n",
       "2246  https://twitter.com/dog_rates/status/667878741...              12.0   \n",
       "1261  https://twitter.com/dog_rates/status/710153181...              13.0   \n",
       "1207  https://twitter.com/dog_rates/status/715733265...              13.0   \n",
       "1234  https://twitter.com/dog_rates/status/712717840...              13.0   \n",
       "1351  https://twitter.com/dog_rates/status/704054845...              12.0   \n",
       "507   https://twitter.com/dog_rates/status/812709060...              13.0   \n",
       "\n",
       "      rating_denominator     name  retweet_count  favorite_count  ...    \\\n",
       "2252                  10     None            101             346  ...     \n",
       "1749                  10     None            781            2460  ...     \n",
       "1873                  10     None           1011            2305  ...     \n",
       "2033                  10     None            841            1430  ...     \n",
       "2246                  10  Tedrick            127             409  ...     \n",
       "1261                  10     Lacy           1006            3153  ...     \n",
       "1207                  10        a           1920            5093  ...     \n",
       "1234                  10     None           5616           13474  ...     \n",
       "1351                  10        a           1028            3201  ...     \n",
       "507                   10   Brandi           1665            7373  ...     \n",
       "\n",
       "                prediction1  prediction1_conf prediction1_dog  \\\n",
       "2252  flat-coated_retriever          0.508392            True   \n",
       "1749                panpipe          0.962572           False   \n",
       "1873     Labrador_retriever          0.458746            True   \n",
       "2033               ice_bear          0.251193           False   \n",
       "2246              seat_belt          0.200373           False   \n",
       "1261             cowboy_hat          0.979053           False   \n",
       "1207         Dandie_Dinmont          0.740229            True   \n",
       "1234         Great_Pyrenees          0.732043            True   \n",
       "1351         Great_Pyrenees          0.667939            True   \n",
       "507            Irish_setter          0.326873            True   \n",
       "\n",
       "                   prediction2 prediction2_conf prediction2_dog  \\\n",
       "2252  Chesapeake_Bay_retriever         0.262239            True   \n",
       "1749                 bannister         0.025248           False   \n",
       "1873                Great_Dane         0.235504            True   \n",
       "2033                       ram         0.213839           False   \n",
       "2246        miniature_pinscher         0.106003            True   \n",
       "1261                  sombrero         0.010682           False   \n",
       "1207          miniature_poodle         0.081915            True   \n",
       "1234                    kuvasz         0.121375            True   \n",
       "1351                    kuvasz         0.228764            True   \n",
       "507           golden_retriever         0.182610            True   \n",
       "\n",
       "                    prediction3 prediction3_conf prediction3_dog  stage  \n",
       "2252     curly-coated_retriever         0.048920            True         \n",
       "1749           golden_retriever         0.002930            True         \n",
       "1873  Staffordshire_bullterrier         0.116864            True         \n",
       "2033                 Arctic_fox         0.081551           False         \n",
       "2246                 schipperke         0.104733            True         \n",
       "1261             cocker_spaniel         0.002713            True         \n",
       "1207                 toy_poodle         0.063748            True         \n",
       "1234            Irish_wolfhound         0.049524            True         \n",
       "1351           golden_retriever         0.043885            True         \n",
       "507                    Leonberg         0.156912            True         \n",
       "\n",
       "[10 rows x 22 columns]"
      ]
     },
     "execution_count": 63,
     "metadata": {},
     "output_type": "execute_result"
    }
   ],
   "source": [
    "df_combined.sample(10)"
   ]
  },
  {
   "cell_type": "code",
   "execution_count": 64,
   "metadata": {
    "scrolled": true
   },
   "outputs": [
    {
     "data": {
      "text/html": [
       "<div>\n",
       "<style scoped>\n",
       "    .dataframe tbody tr th:only-of-type {\n",
       "        vertical-align: middle;\n",
       "    }\n",
       "\n",
       "    .dataframe tbody tr th {\n",
       "        vertical-align: top;\n",
       "    }\n",
       "\n",
       "    .dataframe thead th {\n",
       "        text-align: right;\n",
       "    }\n",
       "</style>\n",
       "<table border=\"1\" class=\"dataframe\">\n",
       "  <thead>\n",
       "    <tr style=\"text-align: right;\">\n",
       "      <th></th>\n",
       "      <th>rating_numerator</th>\n",
       "      <th>rating_denominator</th>\n",
       "      <th>retweet_count</th>\n",
       "      <th>favorite_count</th>\n",
       "      <th>img_num</th>\n",
       "      <th>prediction1_conf</th>\n",
       "      <th>prediction2_conf</th>\n",
       "      <th>prediction3_conf</th>\n",
       "    </tr>\n",
       "  </thead>\n",
       "  <tbody>\n",
       "    <tr>\n",
       "      <th>count</th>\n",
       "      <td>1968.000000</td>\n",
       "      <td>1968.0</td>\n",
       "      <td>1968.000000</td>\n",
       "      <td>1968.000000</td>\n",
       "      <td>1968.000000</td>\n",
       "      <td>1968.000000</td>\n",
       "      <td>1.968000e+03</td>\n",
       "      <td>1.968000e+03</td>\n",
       "    </tr>\n",
       "    <tr>\n",
       "      <th>mean</th>\n",
       "      <td>12.927846</td>\n",
       "      <td>10.0</td>\n",
       "      <td>2784.478150</td>\n",
       "      <td>8953.855691</td>\n",
       "      <td>1.202236</td>\n",
       "      <td>0.594938</td>\n",
       "      <td>1.346584e-01</td>\n",
       "      <td>6.015044e-02</td>\n",
       "    </tr>\n",
       "    <tr>\n",
       "      <th>std</th>\n",
       "      <td>0.498984</td>\n",
       "      <td>0.0</td>\n",
       "      <td>4701.013857</td>\n",
       "      <td>12276.390358</td>\n",
       "      <td>0.559391</td>\n",
       "      <td>0.272070</td>\n",
       "      <td>1.011071e-01</td>\n",
       "      <td>5.097203e-02</td>\n",
       "    </tr>\n",
       "    <tr>\n",
       "      <th>min</th>\n",
       "      <td>5.000000</td>\n",
       "      <td>10.0</td>\n",
       "      <td>16.000000</td>\n",
       "      <td>81.000000</td>\n",
       "      <td>1.000000</td>\n",
       "      <td>0.044333</td>\n",
       "      <td>1.011300e-08</td>\n",
       "      <td>1.740170e-10</td>\n",
       "    </tr>\n",
       "    <tr>\n",
       "      <th>25%</th>\n",
       "      <td>13.000000</td>\n",
       "      <td>10.0</td>\n",
       "      <td>627.750000</td>\n",
       "      <td>1984.000000</td>\n",
       "      <td>1.000000</td>\n",
       "      <td>0.363174</td>\n",
       "      <td>5.345650e-02</td>\n",
       "      <td>1.605498e-02</td>\n",
       "    </tr>\n",
       "    <tr>\n",
       "      <th>50%</th>\n",
       "      <td>13.000000</td>\n",
       "      <td>10.0</td>\n",
       "      <td>1366.500000</td>\n",
       "      <td>4141.000000</td>\n",
       "      <td>1.000000</td>\n",
       "      <td>0.588030</td>\n",
       "      <td>1.174550e-01</td>\n",
       "      <td>4.933745e-02</td>\n",
       "    </tr>\n",
       "    <tr>\n",
       "      <th>75%</th>\n",
       "      <td>13.000000</td>\n",
       "      <td>10.0</td>\n",
       "      <td>3238.500000</td>\n",
       "      <td>11412.250000</td>\n",
       "      <td>1.000000</td>\n",
       "      <td>0.848400</td>\n",
       "      <td>1.956673e-01</td>\n",
       "      <td>9.152147e-02</td>\n",
       "    </tr>\n",
       "    <tr>\n",
       "      <th>max</th>\n",
       "      <td>14.000000</td>\n",
       "      <td>10.0</td>\n",
       "      <td>79515.000000</td>\n",
       "      <td>132810.000000</td>\n",
       "      <td>4.000000</td>\n",
       "      <td>1.000000</td>\n",
       "      <td>4.880140e-01</td>\n",
       "      <td>2.734190e-01</td>\n",
       "    </tr>\n",
       "  </tbody>\n",
       "</table>\n",
       "</div>"
      ],
      "text/plain": [
       "       rating_numerator  rating_denominator  retweet_count  favorite_count  \\\n",
       "count       1968.000000              1968.0    1968.000000     1968.000000   \n",
       "mean          12.927846                10.0    2784.478150     8953.855691   \n",
       "std            0.498984                 0.0    4701.013857    12276.390358   \n",
       "min            5.000000                10.0      16.000000       81.000000   \n",
       "25%           13.000000                10.0     627.750000     1984.000000   \n",
       "50%           13.000000                10.0    1366.500000     4141.000000   \n",
       "75%           13.000000                10.0    3238.500000    11412.250000   \n",
       "max           14.000000                10.0   79515.000000   132810.000000   \n",
       "\n",
       "           img_num  prediction1_conf  prediction2_conf  prediction3_conf  \n",
       "count  1968.000000       1968.000000      1.968000e+03      1.968000e+03  \n",
       "mean      1.202236          0.594938      1.346584e-01      6.015044e-02  \n",
       "std       0.559391          0.272070      1.011071e-01      5.097203e-02  \n",
       "min       1.000000          0.044333      1.011300e-08      1.740170e-10  \n",
       "25%       1.000000          0.363174      5.345650e-02      1.605498e-02  \n",
       "50%       1.000000          0.588030      1.174550e-01      4.933745e-02  \n",
       "75%       1.000000          0.848400      1.956673e-01      9.152147e-02  \n",
       "max       4.000000          1.000000      4.880140e-01      2.734190e-01  "
      ]
     },
     "execution_count": 64,
     "metadata": {},
     "output_type": "execute_result"
    }
   ],
   "source": [
    "df_combined.describe()"
   ]
  },
  {
   "cell_type": "markdown",
   "metadata": {},
   "source": [
    "1. in \"prediction1_conf\", the data shows us  how confident the algorithm is . using the describe method, \"prediction1_conf\" has a higher mean, max and min value than \"prediction2_conf\"  which has higher values than \"prediction3conf\". We can see that the \"prediction1_conf\" median is 0.588 (58.8%) which is not high. the prediction is not very accurate.\n",
    "\n",
    "2. In the \"retweet_count\" the median is equal to 1366.5 and the mean is equal to 2784.47 this explains that the distribution is skewed to the right and the data contains outliers as we can see the min, max , std values especially the max which is 79515\n"
   ]
  },
  {
   "cell_type": "code",
   "execution_count": 65,
   "metadata": {},
   "outputs": [
    {
     "data": {
      "text/html": [
       "<div>\n",
       "<style scoped>\n",
       "    .dataframe tbody tr th:only-of-type {\n",
       "        vertical-align: middle;\n",
       "    }\n",
       "\n",
       "    .dataframe tbody tr th {\n",
       "        vertical-align: top;\n",
       "    }\n",
       "\n",
       "    .dataframe thead th {\n",
       "        text-align: right;\n",
       "    }\n",
       "</style>\n",
       "<table border=\"1\" class=\"dataframe\">\n",
       "  <thead>\n",
       "    <tr style=\"text-align: right;\">\n",
       "      <th></th>\n",
       "      <th>rating_numerator</th>\n",
       "      <th>rating_denominator</th>\n",
       "      <th>retweet_count</th>\n",
       "      <th>favorite_count</th>\n",
       "      <th>img_num</th>\n",
       "      <th>prediction1_conf</th>\n",
       "      <th>prediction2_conf</th>\n",
       "      <th>prediction3_conf</th>\n",
       "    </tr>\n",
       "  </thead>\n",
       "  <tbody>\n",
       "    <tr>\n",
       "      <th>rating_numerator</th>\n",
       "      <td>1.000000</td>\n",
       "      <td>NaN</td>\n",
       "      <td>-0.286370</td>\n",
       "      <td>-0.359971</td>\n",
       "      <td>-0.111617</td>\n",
       "      <td>-0.037121</td>\n",
       "      <td>-0.002287</td>\n",
       "      <td>-0.004356</td>\n",
       "    </tr>\n",
       "    <tr>\n",
       "      <th>rating_denominator</th>\n",
       "      <td>NaN</td>\n",
       "      <td>NaN</td>\n",
       "      <td>NaN</td>\n",
       "      <td>NaN</td>\n",
       "      <td>NaN</td>\n",
       "      <td>NaN</td>\n",
       "      <td>NaN</td>\n",
       "      <td>NaN</td>\n",
       "    </tr>\n",
       "    <tr>\n",
       "      <th>retweet_count</th>\n",
       "      <td>-0.286370</td>\n",
       "      <td>NaN</td>\n",
       "      <td>1.000000</td>\n",
       "      <td>0.913064</td>\n",
       "      <td>0.108336</td>\n",
       "      <td>0.053969</td>\n",
       "      <td>-0.018637</td>\n",
       "      <td>-0.043454</td>\n",
       "    </tr>\n",
       "    <tr>\n",
       "      <th>favorite_count</th>\n",
       "      <td>-0.359971</td>\n",
       "      <td>NaN</td>\n",
       "      <td>0.913064</td>\n",
       "      <td>1.000000</td>\n",
       "      <td>0.138212</td>\n",
       "      <td>0.078144</td>\n",
       "      <td>-0.021680</td>\n",
       "      <td>-0.052480</td>\n",
       "    </tr>\n",
       "    <tr>\n",
       "      <th>img_num</th>\n",
       "      <td>-0.111617</td>\n",
       "      <td>NaN</td>\n",
       "      <td>0.108336</td>\n",
       "      <td>0.138212</td>\n",
       "      <td>1.000000</td>\n",
       "      <td>0.202475</td>\n",
       "      <td>-0.157208</td>\n",
       "      <td>-0.137649</td>\n",
       "    </tr>\n",
       "    <tr>\n",
       "      <th>prediction1_conf</th>\n",
       "      <td>-0.037121</td>\n",
       "      <td>NaN</td>\n",
       "      <td>0.053969</td>\n",
       "      <td>0.078144</td>\n",
       "      <td>0.202475</td>\n",
       "      <td>1.000000</td>\n",
       "      <td>-0.511836</td>\n",
       "      <td>-0.708508</td>\n",
       "    </tr>\n",
       "    <tr>\n",
       "      <th>prediction2_conf</th>\n",
       "      <td>-0.002287</td>\n",
       "      <td>NaN</td>\n",
       "      <td>-0.018637</td>\n",
       "      <td>-0.021680</td>\n",
       "      <td>-0.157208</td>\n",
       "      <td>-0.511836</td>\n",
       "      <td>1.000000</td>\n",
       "      <td>0.480881</td>\n",
       "    </tr>\n",
       "    <tr>\n",
       "      <th>prediction3_conf</th>\n",
       "      <td>-0.004356</td>\n",
       "      <td>NaN</td>\n",
       "      <td>-0.043454</td>\n",
       "      <td>-0.052480</td>\n",
       "      <td>-0.137649</td>\n",
       "      <td>-0.708508</td>\n",
       "      <td>0.480881</td>\n",
       "      <td>1.000000</td>\n",
       "    </tr>\n",
       "  </tbody>\n",
       "</table>\n",
       "</div>"
      ],
      "text/plain": [
       "                    rating_numerator  rating_denominator  retweet_count  \\\n",
       "rating_numerator            1.000000                 NaN      -0.286370   \n",
       "rating_denominator               NaN                 NaN            NaN   \n",
       "retweet_count              -0.286370                 NaN       1.000000   \n",
       "favorite_count             -0.359971                 NaN       0.913064   \n",
       "img_num                    -0.111617                 NaN       0.108336   \n",
       "prediction1_conf           -0.037121                 NaN       0.053969   \n",
       "prediction2_conf           -0.002287                 NaN      -0.018637   \n",
       "prediction3_conf           -0.004356                 NaN      -0.043454   \n",
       "\n",
       "                    favorite_count   img_num  prediction1_conf  \\\n",
       "rating_numerator         -0.359971 -0.111617         -0.037121   \n",
       "rating_denominator             NaN       NaN               NaN   \n",
       "retweet_count             0.913064  0.108336          0.053969   \n",
       "favorite_count            1.000000  0.138212          0.078144   \n",
       "img_num                   0.138212  1.000000          0.202475   \n",
       "prediction1_conf          0.078144  0.202475          1.000000   \n",
       "prediction2_conf         -0.021680 -0.157208         -0.511836   \n",
       "prediction3_conf         -0.052480 -0.137649         -0.708508   \n",
       "\n",
       "                    prediction2_conf  prediction3_conf  \n",
       "rating_numerator           -0.002287         -0.004356  \n",
       "rating_denominator               NaN               NaN  \n",
       "retweet_count              -0.018637         -0.043454  \n",
       "favorite_count             -0.021680         -0.052480  \n",
       "img_num                    -0.157208         -0.137649  \n",
       "prediction1_conf           -0.511836         -0.708508  \n",
       "prediction2_conf            1.000000          0.480881  \n",
       "prediction3_conf            0.480881          1.000000  "
      ]
     },
     "execution_count": 65,
     "metadata": {},
     "output_type": "execute_result"
    }
   ],
   "source": [
    "df_combined.corr()"
   ]
  },
  {
   "cell_type": "markdown",
   "metadata": {},
   "source": [
    "3. in the correlation table, we can see that there is a high positive correlation between \"favourite_count\" and \"retweet_count\". that mean if one increase by 1 count the other increases by 0.913 .\n",
    "4. between \"prediction1_conf\" and \"prediction2_conf\" there is negative correlation : -0.708 which means if the first prediction is high in confidence the other is affected. which is very logical , if the first prediction guess the breed of the dog the third prediction is likely to be not accurate  \n"
   ]
  },
  {
   "cell_type": "markdown",
   "metadata": {
    "collapsed": true
   },
   "source": [
    "### Visualization"
   ]
  },
  {
   "cell_type": "code",
   "execution_count": 66,
   "metadata": {},
   "outputs": [],
   "source": [
    "rating = df_combined[\"rating_numerator\"].value_counts()\n"
   ]
  },
  {
   "cell_type": "code",
   "execution_count": 67,
   "metadata": {},
   "outputs": [
    {
     "data": {
      "text/plain": [
       "Text(0.5,1,'frequency table of rating_numerator')"
      ]
     },
     "execution_count": 67,
     "metadata": {},
     "output_type": "execute_result"
    },
    {
     "data": {
      "image/png": "[encoded data removed]",
      "text/plain": [
       "<matplotlib.figure.Figure at 0x7f20a1e211d0>"
      ]
     },
     "metadata": {
      "needs_background": "light"
     },
     "output_type": "display_data"
    }
   ],
   "source": [
    "rating.plot(kind = \"bar\", x = \"rating_numerator\" ,  color = \"blue\", alpha = 0.5,figsize = (13,6))\n",
    "plt.xlabel(\"rating_numerator\",fontsize = 25)\n",
    "plt.ylabel(\"frequency\" , fontsize = 25)\n",
    "plt.title(\"frequency table of rating_numerator\" , fontsize = 30)"
   ]
  },
  {
   "cell_type": "markdown",
   "metadata": {},
   "source": [
    "as we can see in the bar chart the rating with the highest frequency is by far value '13' most of tweet rates a are 13 with over 1500 occurences, then 12 and 14 with respectively 282 and 150"
   ]
  }
 ],
 "metadata": {
  "extensions": {
   "jupyter_dashboards": {
    "activeView": "report_default",
    "version": 1,
    "views": {
     "grid_default": {
      "cellMargin": 10,
      "defaultCellHeight": 20,
      "maxColumns": 12,
      "name": "grid",
      "type": "grid"
     },
     "report_default": {
      "name": "report",
      "type": "report"
     }
    }
   }
  },
  "kernelspec": {
   "display_name": "Python 3",
   "language": "python",
   "name": "python3"
  },
  "language_info": {
   "codemirror_mode": {
    "name": "ipython",
    "version": 3
   },
   "file_extension": ".py",
   "mimetype": "text/x-python",
   "name": "python",
   "nbconvert_exporter": "python",
   "pygments_lexer": "ipython3",
   "version": "3.6.3"
  }
 },
 "nbformat": 4,
 "nbformat_minor": 2
}
